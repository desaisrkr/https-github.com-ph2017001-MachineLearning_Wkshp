{
  "nbformat": 4,
  "nbformat_minor": 0,
  "metadata": {
    "colab": {
      "name": "Decision_Trees.ipynb",
      "provenance": [],
      "collapsed_sections": [],
      "authorship_tag": "ABX9TyNM3Dsq+c06mg7m3B3xzIC1",
      "include_colab_link": true
    },
    "kernelspec": {
      "name": "python3",
      "display_name": "Python 3"
    }
  },
  "cells": [
    {
      "cell_type": "markdown",
      "metadata": {
        "id": "view-in-github",
        "colab_type": "text"
      },
      "source": [
        "<a href=\"https://colab.research.google.com/github/ph2017001/MachineLearning_Wkshp/blob/master/Decision_Trees.ipynb\" target=\"_parent\"><img src=\"https://colab.research.google.com/assets/colab-badge.svg\" alt=\"Open In Colab\"/></a>"
      ]
    },
    {
      "cell_type": "code",
      "metadata": {
        "id": "Q8U6mz-Il7Uo",
        "colab_type": "code",
        "colab": {}
      },
      "source": [
        "from sklearn.datasets import load_iris"
      ],
      "execution_count": 1,
      "outputs": []
    },
    {
      "cell_type": "code",
      "metadata": {
        "id": "Y973hW8GmHMf",
        "colab_type": "code",
        "colab": {}
      },
      "source": [
        "from sklearn import tree"
      ],
      "execution_count": 2,
      "outputs": []
    },
    {
      "cell_type": "code",
      "metadata": {
        "id": "yq28ZSWbmLaB",
        "colab_type": "code",
        "colab": {}
      },
      "source": [
        "X, y = load_iris(return_X_y=True)"
      ],
      "execution_count": 3,
      "outputs": []
    },
    {
      "cell_type": "code",
      "metadata": {
        "id": "7H-_U5emmOL9",
        "colab_type": "code",
        "colab": {}
      },
      "source": [
        "model = tree.DecisionTreeClassifier()"
      ],
      "execution_count": 4,
      "outputs": []
    },
    {
      "cell_type": "code",
      "metadata": {
        "id": "3sSGa5kqmUOp",
        "colab_type": "code",
        "colab": {
          "base_uri": "https://localhost:8080/",
          "height": 118
        },
        "outputId": "9f6ee26a-99fa-423e-8065-20080cb668ea"
      },
      "source": [
        "model.fit(X,y)"
      ],
      "execution_count": 5,
      "outputs": [
        {
          "output_type": "execute_result",
          "data": {
            "text/plain": [
              "DecisionTreeClassifier(ccp_alpha=0.0, class_weight=None, criterion='gini',\n",
              "                       max_depth=None, max_features=None, max_leaf_nodes=None,\n",
              "                       min_impurity_decrease=0.0, min_impurity_split=None,\n",
              "                       min_samples_leaf=1, min_samples_split=2,\n",
              "                       min_weight_fraction_leaf=0.0, presort='deprecated',\n",
              "                       random_state=None, splitter='best')"
            ]
          },
          "metadata": {
            "tags": []
          },
          "execution_count": 5
        }
      ]
    },
    {
      "cell_type": "code",
      "metadata": {
        "id": "SwFxs1XvmW8d",
        "colab_type": "code",
        "colab": {
          "base_uri": "https://localhost:8080/",
          "height": 534
        },
        "outputId": "7d4528f9-cfcb-4aa9-f860-d68c3f501962"
      },
      "source": [
        "tree.plot_tree(model)"
      ],
      "execution_count": 6,
      "outputs": [
        {
          "output_type": "execute_result",
          "data": {
            "text/plain": [
              "[Text(167.4, 199.32, 'X[3] <= 0.8\\ngini = 0.667\\nsamples = 150\\nvalue = [50, 50, 50]'),\n",
              " Text(141.64615384615385, 163.07999999999998, 'gini = 0.0\\nsamples = 50\\nvalue = [50, 0, 0]'),\n",
              " Text(193.15384615384616, 163.07999999999998, 'X[3] <= 1.75\\ngini = 0.5\\nsamples = 100\\nvalue = [0, 50, 50]'),\n",
              " Text(103.01538461538462, 126.83999999999999, 'X[2] <= 4.95\\ngini = 0.168\\nsamples = 54\\nvalue = [0, 49, 5]'),\n",
              " Text(51.50769230769231, 90.6, 'X[3] <= 1.65\\ngini = 0.041\\nsamples = 48\\nvalue = [0, 47, 1]'),\n",
              " Text(25.753846153846155, 54.359999999999985, 'gini = 0.0\\nsamples = 47\\nvalue = [0, 47, 0]'),\n",
              " Text(77.26153846153846, 54.359999999999985, 'gini = 0.0\\nsamples = 1\\nvalue = [0, 0, 1]'),\n",
              " Text(154.52307692307693, 90.6, 'X[3] <= 1.55\\ngini = 0.444\\nsamples = 6\\nvalue = [0, 2, 4]'),\n",
              " Text(128.76923076923077, 54.359999999999985, 'gini = 0.0\\nsamples = 3\\nvalue = [0, 0, 3]'),\n",
              " Text(180.27692307692308, 54.359999999999985, 'X[0] <= 6.95\\ngini = 0.444\\nsamples = 3\\nvalue = [0, 2, 1]'),\n",
              " Text(154.52307692307693, 18.119999999999976, 'gini = 0.0\\nsamples = 2\\nvalue = [0, 2, 0]'),\n",
              " Text(206.03076923076924, 18.119999999999976, 'gini = 0.0\\nsamples = 1\\nvalue = [0, 0, 1]'),\n",
              " Text(283.2923076923077, 126.83999999999999, 'X[2] <= 4.85\\ngini = 0.043\\nsamples = 46\\nvalue = [0, 1, 45]'),\n",
              " Text(257.53846153846155, 90.6, 'X[0] <= 5.95\\ngini = 0.444\\nsamples = 3\\nvalue = [0, 1, 2]'),\n",
              " Text(231.7846153846154, 54.359999999999985, 'gini = 0.0\\nsamples = 1\\nvalue = [0, 1, 0]'),\n",
              " Text(283.2923076923077, 54.359999999999985, 'gini = 0.0\\nsamples = 2\\nvalue = [0, 0, 2]'),\n",
              " Text(309.04615384615386, 90.6, 'gini = 0.0\\nsamples = 43\\nvalue = [0, 0, 43]')]"
            ]
          },
          "metadata": {
            "tags": []
          },
          "execution_count": 6
        },
        {
          "output_type": "display_data",
          "data": {
            "image/png": "[encoded data removed]",
            "text/plain": [
              "<Figure size 432x288 with 1 Axes>"
            ]
          },
          "metadata": {
            "tags": [],
            "needs_background": "light"
          }
        }
      ]
    },
    {
      "cell_type": "code",
      "metadata": {
        "id": "NViQBrbfmcO_",
        "colab_type": "code",
        "colab": {
          "base_uri": "https://localhost:8080/",
          "height": 35
        },
        "outputId": "748205ae-f52a-452f-af5c-22e7c5ba4804"
      },
      "source": [
        "import graphviz \n",
        "dot_data = tree.export_graphviz(model, out_file=None) \n",
        "graph = graphviz.Source(dot_data) \n",
        "graph.render(\"iris\") "
      ],
      "execution_count": 7,
      "outputs": [
        {
          "output_type": "execute_result",
          "data": {
            "application/vnd.google.colaboratory.intrinsic+json": {
              "type": "string"
            },
            "text/plain": [
              "'iris.pdf'"
            ]
          },
          "metadata": {
            "tags": []
          },
          "execution_count": 7
        }
      ]
    },
    {
      "cell_type": "code",
      "metadata": {
        "id": "O6fq1YrPnZPT",
        "colab_type": "code",
        "colab": {}
      },
      "source": [
        "iris = load_iris()"
      ],
      "execution_count": 11,
      "outputs": []
    },
    {
      "cell_type": "code",
      "metadata": {
        "id": "z4-9mS7enE9C",
        "colab_type": "code",
        "colab": {
          "base_uri": "https://localhost:8080/",
          "height": 916
        },
        "outputId": "96790320-1dfe-4cc0-9eb8-a55e241479d6"
      },
      "source": [
        "dot_data = tree.export_graphviz(model, out_file=None, feature_names=iris.feature_names,\n",
        "                                class_names=iris.target_names,  filled=True, \n",
        "                                rounded=True,special_characters=True)  \n",
        "graph = graphviz.Source(dot_data)  \n",
        "graph "
      ],
      "execution_count": 12,
      "outputs": [
        {
          "output_type": "execute_result",
          "data": {
            "text/plain": [
              "<graphviz.files.Source at 0x7fe682f1c358>"
            ],
            "image/svg+xml": "<?xml version=\"1.0\" encoding=\"UTF-8\" standalone=\"no\"?>\n<!DOCTYPE svg PUBLIC \"-//W3C//DTD SVG 1.1//EN\"\n \"http://www.w3.org/Graphics/SVG/1.1/DTD/svg11.dtd\">\n<!-- Generated by graphviz version 2.40.1 (20161225.0304)\n -->\n<!-- Title: Tree Pages: 1 -->\n<svg width=\"909pt\" height=\"671pt\"\n viewBox=\"0.00 0.00 908.50 671.00\" xmlns=\"http://www.w3.org/2000/svg\" xmlns:xlink=\"http://www.w3.org/1999/xlink\">\n<g id=\"graph0\" class=\"graph\" transform=\"scale(1 1) rotate(0) translate(4 667)\">\n<title>Tree</title>\n<polygon fill=\"#ffffff\" stroke=\"transparent\" points=\"-4,4 -4,-667 904.5,-667 904.5,4 -4,4\"/>\n<!-- 0 -->\n<g id=\"node1\" class=\"node\">\n<title>0</title>\n<path fill=\"#ffffff\" stroke=\"#000000\" d=\"M539.5,-663C539.5,-663 410.5,-663 410.5,-663 404.5,-663 398.5,-657 398.5,-651 398.5,-651 398.5,-592 398.5,-592 398.5,-586 404.5,-580 410.5,-580 410.5,-580 539.5,-580 539.5,-580 545.5,-580 551.5,-586 551.5,-592 551.5,-592 551.5,-651 551.5,-651 551.5,-657 545.5,-663 539.5,-663\"/>\n<text text-anchor=\"start\" x=\"406.5\" y=\"-647.8\" font-family=\"Helvetica,sans-Serif\" font-size=\"14.00\" fill=\"#000000\">petal width (cm) ≤ 0.8</text>\n<text text-anchor=\"start\" x=\"437\" y=\"-632.8\" font-family=\"Helvetica,sans-Serif\" font-size=\"14.00\" fill=\"#000000\">gini = 0.667</text>\n<text text-anchor=\"start\" x=\"427\" y=\"-617.8\" font-family=\"Helvetica,sans-Serif\" font-size=\"14.00\" fill=\"#000000\">samples = 150</text>\n<text text-anchor=\"start\" x=\"413\" y=\"-602.8\" font-family=\"Helvetica,sans-Serif\" font-size=\"14.00\" fill=\"#000000\">value = [50, 50, 50]</text>\n<text text-anchor=\"start\" x=\"428\" y=\"-587.8\" font-family=\"Helvetica,sans-Serif\" font-size=\"14.00\" fill=\"#000000\">class = setosa</text>\n</g>\n<!-- 1 -->\n<g id=\"node2\" class=\"node\">\n<title>1</title>\n<path fill=\"#e58139\" stroke=\"#000000\" d=\"M444.5,-536.5C444.5,-536.5 345.5,-536.5 345.5,-536.5 339.5,-536.5 333.5,-530.5 333.5,-524.5 333.5,-524.5 333.5,-480.5 333.5,-480.5 333.5,-474.5 339.5,-468.5 345.5,-468.5 345.5,-468.5 444.5,-468.5 444.5,-468.5 450.5,-468.5 456.5,-474.5 456.5,-480.5 456.5,-480.5 456.5,-524.5 456.5,-524.5 456.5,-530.5 450.5,-536.5 444.5,-536.5\"/>\n<text text-anchor=\"start\" x=\"365.5\" y=\"-521.3\" font-family=\"Helvetica,sans-Serif\" font-size=\"14.00\" fill=\"#000000\">gini = 0.0</text>\n<text text-anchor=\"start\" x=\"351\" y=\"-506.3\" font-family=\"Helvetica,sans-Serif\" font-size=\"14.00\" fill=\"#000000\">samples = 50</text>\n<text text-anchor=\"start\" x=\"341.5\" y=\"-491.3\" font-family=\"Helvetica,sans-Serif\" font-size=\"14.00\" fill=\"#000000\">value = [50, 0, 0]</text>\n<text text-anchor=\"start\" x=\"348\" y=\"-476.3\" font-family=\"Helvetica,sans-Serif\" font-size=\"14.00\" fill=\"#000000\">class = setosa</text>\n</g>\n<!-- 0&#45;&gt;1 -->\n<g id=\"edge1\" class=\"edge\">\n<title>0&#45;&gt;1</title>\n<path fill=\"none\" stroke=\"#000000\" d=\"M447.0199,-579.8796C439.4797,-568.6636 431.3113,-556.5131 423.7309,-545.2372\"/>\n<polygon fill=\"#000000\" stroke=\"#000000\" points=\"426.5527,-543.1612 418.0689,-536.8149 420.7434,-547.0667 426.5527,-543.1612\"/>\n<text text-anchor=\"middle\" x=\"413.2608\" y=\"-557.6482\" font-family=\"Helvetica,sans-Serif\" font-size=\"14.00\" fill=\"#000000\">True</text>\n</g>\n<!-- 2 -->\n<g id=\"node3\" class=\"node\">\n<title>2</title>\n<path fill=\"#ffffff\" stroke=\"#000000\" d=\"M623.5,-544C623.5,-544 486.5,-544 486.5,-544 480.5,-544 474.5,-538 474.5,-532 474.5,-532 474.5,-473 474.5,-473 474.5,-467 480.5,-461 486.5,-461 486.5,-461 623.5,-461 623.5,-461 629.5,-461 635.5,-467 635.5,-473 635.5,-473 635.5,-532 635.5,-532 635.5,-538 629.5,-544 623.5,-544\"/>\n<text text-anchor=\"start\" x=\"482.5\" y=\"-528.8\" font-family=\"Helvetica,sans-Serif\" font-size=\"14.00\" fill=\"#000000\">petal width (cm) ≤ 1.75</text>\n<text text-anchor=\"start\" x=\"525.5\" y=\"-513.8\" font-family=\"Helvetica,sans-Serif\" font-size=\"14.00\" fill=\"#000000\">gini = 0.5</text>\n<text text-anchor=\"start\" x=\"507\" y=\"-498.8\" font-family=\"Helvetica,sans-Serif\" font-size=\"14.00\" fill=\"#000000\">samples = 100</text>\n<text text-anchor=\"start\" x=\"497.5\" y=\"-483.8\" font-family=\"Helvetica,sans-Serif\" font-size=\"14.00\" fill=\"#000000\">value = [0, 50, 50]</text>\n<text text-anchor=\"start\" x=\"499\" y=\"-468.8\" font-family=\"Helvetica,sans-Serif\" font-size=\"14.00\" fill=\"#000000\">class = versicolor</text>\n</g>\n<!-- 0&#45;&gt;2 -->\n<g id=\"edge2\" class=\"edge\">\n<title>0&#45;&gt;2</title>\n<path fill=\"none\" stroke=\"#000000\" d=\"M502.9801,-579.8796C508.8531,-571.1434 515.1073,-561.8404 521.1679,-552.8253\"/>\n<polygon fill=\"#000000\" stroke=\"#000000\" points=\"524.2259,-554.5498 526.9005,-544.2981 518.4166,-550.6444 524.2259,-554.5498\"/>\n<text text-anchor=\"middle\" x=\"531.7085\" y=\"-565.1314\" font-family=\"Helvetica,sans-Serif\" font-size=\"14.00\" fill=\"#000000\">False</text>\n</g>\n<!-- 3 -->\n<g id=\"node4\" class=\"node\">\n<title>3</title>\n<path fill=\"#4de88e\" stroke=\"#000000\" d=\"M508.5,-425C508.5,-425 365.5,-425 365.5,-425 359.5,-425 353.5,-419 353.5,-413 353.5,-413 353.5,-354 353.5,-354 353.5,-348 359.5,-342 365.5,-342 365.5,-342 508.5,-342 508.5,-342 514.5,-342 520.5,-348 520.5,-354 520.5,-354 520.5,-413 520.5,-413 520.5,-419 514.5,-425 508.5,-425\"/>\n<text text-anchor=\"start\" x=\"361.5\" y=\"-409.8\" font-family=\"Helvetica,sans-Serif\" font-size=\"14.00\" fill=\"#000000\">petal length (cm) ≤ 4.95</text>\n<text text-anchor=\"start\" x=\"399\" y=\"-394.8\" font-family=\"Helvetica,sans-Serif\" font-size=\"14.00\" fill=\"#000000\">gini = 0.168</text>\n<text text-anchor=\"start\" x=\"393\" y=\"-379.8\" font-family=\"Helvetica,sans-Serif\" font-size=\"14.00\" fill=\"#000000\">samples = 54</text>\n<text text-anchor=\"start\" x=\"383.5\" y=\"-364.8\" font-family=\"Helvetica,sans-Serif\" font-size=\"14.00\" fill=\"#000000\">value = [0, 49, 5]</text>\n<text text-anchor=\"start\" x=\"381\" y=\"-349.8\" font-family=\"Helvetica,sans-Serif\" font-size=\"14.00\" fill=\"#000000\">class = versicolor</text>\n</g>\n<!-- 2&#45;&gt;3 -->\n<g id=\"edge3\" class=\"edge\">\n<title>2&#45;&gt;3</title>\n<path fill=\"none\" stroke=\"#000000\" d=\"M513.7293,-460.8796C504.6201,-451.6931 494.8892,-441.8798 485.5224,-432.4336\"/>\n<polygon fill=\"#000000\" stroke=\"#000000\" points=\"487.9733,-429.9345 478.4468,-425.2981 483.0027,-434.8634 487.9733,-429.9345\"/>\n</g>\n<!-- 12 -->\n<g id=\"node13\" class=\"node\">\n<title>12</title>\n<path fill=\"#843de6\" stroke=\"#000000\" d=\"M745.5,-425C745.5,-425 602.5,-425 602.5,-425 596.5,-425 590.5,-419 590.5,-413 590.5,-413 590.5,-354 590.5,-354 590.5,-348 596.5,-342 602.5,-342 602.5,-342 745.5,-342 745.5,-342 751.5,-342 757.5,-348 757.5,-354 757.5,-354 757.5,-413 757.5,-413 757.5,-419 751.5,-425 745.5,-425\"/>\n<text text-anchor=\"start\" x=\"598.5\" y=\"-409.8\" font-family=\"Helvetica,sans-Serif\" font-size=\"14.00\" fill=\"#000000\">petal length (cm) ≤ 4.85</text>\n<text text-anchor=\"start\" x=\"636\" y=\"-394.8\" font-family=\"Helvetica,sans-Serif\" font-size=\"14.00\" fill=\"#000000\">gini = 0.043</text>\n<text text-anchor=\"start\" x=\"630\" y=\"-379.8\" font-family=\"Helvetica,sans-Serif\" font-size=\"14.00\" fill=\"#000000\">samples = 46</text>\n<text text-anchor=\"start\" x=\"620.5\" y=\"-364.8\" font-family=\"Helvetica,sans-Serif\" font-size=\"14.00\" fill=\"#000000\">value = [0, 1, 45]</text>\n<text text-anchor=\"start\" x=\"622.5\" y=\"-349.8\" font-family=\"Helvetica,sans-Serif\" font-size=\"14.00\" fill=\"#000000\">class = virginica</text>\n</g>\n<!-- 2&#45;&gt;12 -->\n<g id=\"edge12\" class=\"edge\">\n<title>2&#45;&gt;12</title>\n<path fill=\"none\" stroke=\"#000000\" d=\"M596.6204,-460.8796C605.8069,-451.6931 615.6202,-441.8798 625.0664,-432.4336\"/>\n<polygon fill=\"#000000\" stroke=\"#000000\" points=\"627.6057,-434.8441 632.2019,-425.2981 622.6559,-429.8943 627.6057,-434.8441\"/>\n</g>\n<!-- 4 -->\n<g id=\"node5\" class=\"node\">\n<title>4</title>\n<path fill=\"#3de684\" stroke=\"#000000\" d=\"M274.5,-306C274.5,-306 137.5,-306 137.5,-306 131.5,-306 125.5,-300 125.5,-294 125.5,-294 125.5,-235 125.5,-235 125.5,-229 131.5,-223 137.5,-223 137.5,-223 274.5,-223 274.5,-223 280.5,-223 286.5,-229 286.5,-235 286.5,-235 286.5,-294 286.5,-294 286.5,-300 280.5,-306 274.5,-306\"/>\n<text text-anchor=\"start\" x=\"133.5\" y=\"-290.8\" font-family=\"Helvetica,sans-Serif\" font-size=\"14.00\" fill=\"#000000\">petal width (cm) ≤ 1.65</text>\n<text text-anchor=\"start\" x=\"168\" y=\"-275.8\" font-family=\"Helvetica,sans-Serif\" font-size=\"14.00\" fill=\"#000000\">gini = 0.041</text>\n<text text-anchor=\"start\" x=\"162\" y=\"-260.8\" font-family=\"Helvetica,sans-Serif\" font-size=\"14.00\" fill=\"#000000\">samples = 48</text>\n<text text-anchor=\"start\" x=\"152.5\" y=\"-245.8\" font-family=\"Helvetica,sans-Serif\" font-size=\"14.00\" fill=\"#000000\">value = [0, 47, 1]</text>\n<text text-anchor=\"start\" x=\"150\" y=\"-230.8\" font-family=\"Helvetica,sans-Serif\" font-size=\"14.00\" fill=\"#000000\">class = versicolor</text>\n</g>\n<!-- 3&#45;&gt;4 -->\n<g id=\"edge4\" class=\"edge\">\n<title>3&#45;&gt;4</title>\n<path fill=\"none\" stroke=\"#000000\" d=\"M356.2074,-341.8796C336.6886,-331.8244 315.712,-321.0183 295.8077,-310.7645\"/>\n<polygon fill=\"#000000\" stroke=\"#000000\" points=\"297.2396,-307.5651 286.747,-306.0969 294.0339,-313.788 297.2396,-307.5651\"/>\n</g>\n<!-- 7 -->\n<g id=\"node8\" class=\"node\">\n<title>7</title>\n<path fill=\"#c09cf2\" stroke=\"#000000\" d=\"M505.5,-306C505.5,-306 368.5,-306 368.5,-306 362.5,-306 356.5,-300 356.5,-294 356.5,-294 356.5,-235 356.5,-235 356.5,-229 362.5,-223 368.5,-223 368.5,-223 505.5,-223 505.5,-223 511.5,-223 517.5,-229 517.5,-235 517.5,-235 517.5,-294 517.5,-294 517.5,-300 511.5,-306 505.5,-306\"/>\n<text text-anchor=\"start\" x=\"364.5\" y=\"-290.8\" font-family=\"Helvetica,sans-Serif\" font-size=\"14.00\" fill=\"#000000\">petal width (cm) ≤ 1.55</text>\n<text text-anchor=\"start\" x=\"399\" y=\"-275.8\" font-family=\"Helvetica,sans-Serif\" font-size=\"14.00\" fill=\"#000000\">gini = 0.444</text>\n<text text-anchor=\"start\" x=\"397.5\" y=\"-260.8\" font-family=\"Helvetica,sans-Serif\" font-size=\"14.00\" fill=\"#000000\">samples = 6</text>\n<text text-anchor=\"start\" x=\"387.5\" y=\"-245.8\" font-family=\"Helvetica,sans-Serif\" font-size=\"14.00\" fill=\"#000000\">value = [0, 2, 4]</text>\n<text text-anchor=\"start\" x=\"385.5\" y=\"-230.8\" font-family=\"Helvetica,sans-Serif\" font-size=\"14.00\" fill=\"#000000\">class = virginica</text>\n</g>\n<!-- 3&#45;&gt;7 -->\n<g id=\"edge7\" class=\"edge\">\n<title>3&#45;&gt;7</title>\n<path fill=\"none\" stroke=\"#000000\" d=\"M437,-341.8796C437,-333.6838 437,-324.9891 437,-316.5013\"/>\n<polygon fill=\"#000000\" stroke=\"#000000\" points=\"440.5001,-316.298 437,-306.2981 433.5001,-316.2981 440.5001,-316.298\"/>\n</g>\n<!-- 5 -->\n<g id=\"node6\" class=\"node\">\n<title>5</title>\n<path fill=\"#39e581\" stroke=\"#000000\" d=\"M116,-179.5C116,-179.5 12,-179.5 12,-179.5 6,-179.5 0,-173.5 0,-167.5 0,-167.5 0,-123.5 0,-123.5 0,-117.5 6,-111.5 12,-111.5 12,-111.5 116,-111.5 116,-111.5 122,-111.5 128,-117.5 128,-123.5 128,-123.5 128,-167.5 128,-167.5 128,-173.5 122,-179.5 116,-179.5\"/>\n<text text-anchor=\"start\" x=\"34.5\" y=\"-164.3\" font-family=\"Helvetica,sans-Serif\" font-size=\"14.00\" fill=\"#000000\">gini = 0.0</text>\n<text text-anchor=\"start\" x=\"20\" y=\"-149.3\" font-family=\"Helvetica,sans-Serif\" font-size=\"14.00\" fill=\"#000000\">samples = 47</text>\n<text text-anchor=\"start\" x=\"10.5\" y=\"-134.3\" font-family=\"Helvetica,sans-Serif\" font-size=\"14.00\" fill=\"#000000\">value = [0, 47, 0]</text>\n<text text-anchor=\"start\" x=\"8\" y=\"-119.3\" font-family=\"Helvetica,sans-Serif\" font-size=\"14.00\" fill=\"#000000\">class = versicolor</text>\n</g>\n<!-- 4&#45;&gt;5 -->\n<g id=\"edge5\" class=\"edge\">\n<title>4&#45;&gt;5</title>\n<path fill=\"none\" stroke=\"#000000\" d=\"M156.3353,-222.8796C142.1642,-211.0038 126.743,-198.0804 112.6342,-186.2568\"/>\n<polygon fill=\"#000000\" stroke=\"#000000\" points=\"114.8598,-183.5554 104.9472,-179.8149 110.3637,-188.9206 114.8598,-183.5554\"/>\n</g>\n<!-- 6 -->\n<g id=\"node7\" class=\"node\">\n<title>6</title>\n<path fill=\"#8139e5\" stroke=\"#000000\" d=\"M253.5,-179.5C253.5,-179.5 158.5,-179.5 158.5,-179.5 152.5,-179.5 146.5,-173.5 146.5,-167.5 146.5,-167.5 146.5,-123.5 146.5,-123.5 146.5,-117.5 152.5,-111.5 158.5,-111.5 158.5,-111.5 253.5,-111.5 253.5,-111.5 259.5,-111.5 265.5,-117.5 265.5,-123.5 265.5,-123.5 265.5,-167.5 265.5,-167.5 265.5,-173.5 259.5,-179.5 253.5,-179.5\"/>\n<text text-anchor=\"start\" x=\"176.5\" y=\"-164.3\" font-family=\"Helvetica,sans-Serif\" font-size=\"14.00\" fill=\"#000000\">gini = 0.0</text>\n<text text-anchor=\"start\" x=\"166.5\" y=\"-149.3\" font-family=\"Helvetica,sans-Serif\" font-size=\"14.00\" fill=\"#000000\">samples = 1</text>\n<text text-anchor=\"start\" x=\"156.5\" y=\"-134.3\" font-family=\"Helvetica,sans-Serif\" font-size=\"14.00\" fill=\"#000000\">value = [0, 0, 1]</text>\n<text text-anchor=\"start\" x=\"154.5\" y=\"-119.3\" font-family=\"Helvetica,sans-Serif\" font-size=\"14.00\" fill=\"#000000\">class = virginica</text>\n</g>\n<!-- 4&#45;&gt;6 -->\n<g id=\"edge6\" class=\"edge\">\n<title>4&#45;&gt;6</title>\n<path fill=\"none\" stroke=\"#000000\" d=\"M206,-222.8796C206,-212.2134 206,-200.7021 206,-189.9015\"/>\n<polygon fill=\"#000000\" stroke=\"#000000\" points=\"209.5001,-189.8149 206,-179.8149 202.5001,-189.815 209.5001,-189.8149\"/>\n</g>\n<!-- 8 -->\n<g id=\"node9\" class=\"node\">\n<title>8</title>\n<path fill=\"#8139e5\" stroke=\"#000000\" d=\"M390.5,-179.5C390.5,-179.5 295.5,-179.5 295.5,-179.5 289.5,-179.5 283.5,-173.5 283.5,-167.5 283.5,-167.5 283.5,-123.5 283.5,-123.5 283.5,-117.5 289.5,-111.5 295.5,-111.5 295.5,-111.5 390.5,-111.5 390.5,-111.5 396.5,-111.5 402.5,-117.5 402.5,-123.5 402.5,-123.5 402.5,-167.5 402.5,-167.5 402.5,-173.5 396.5,-179.5 390.5,-179.5\"/>\n<text text-anchor=\"start\" x=\"313.5\" y=\"-164.3\" font-family=\"Helvetica,sans-Serif\" font-size=\"14.00\" fill=\"#000000\">gini = 0.0</text>\n<text text-anchor=\"start\" x=\"303.5\" y=\"-149.3\" font-family=\"Helvetica,sans-Serif\" font-size=\"14.00\" fill=\"#000000\">samples = 3</text>\n<text text-anchor=\"start\" x=\"293.5\" y=\"-134.3\" font-family=\"Helvetica,sans-Serif\" font-size=\"14.00\" fill=\"#000000\">value = [0, 0, 3]</text>\n<text text-anchor=\"start\" x=\"291.5\" y=\"-119.3\" font-family=\"Helvetica,sans-Serif\" font-size=\"14.00\" fill=\"#000000\">class = virginica</text>\n</g>\n<!-- 7&#45;&gt;8 -->\n<g id=\"edge8\" class=\"edge\">\n<title>7&#45;&gt;8</title>\n<path fill=\"none\" stroke=\"#000000\" d=\"M404.1234,-222.8796C395.1768,-211.5536 385.4776,-199.2748 376.4971,-187.9058\"/>\n<polygon fill=\"#000000\" stroke=\"#000000\" points=\"379.051,-185.4926 370.1059,-179.8149 373.558,-189.8316 379.051,-185.4926\"/>\n</g>\n<!-- 9 -->\n<g id=\"node10\" class=\"node\">\n<title>9</title>\n<path fill=\"#9cf2c0\" stroke=\"#000000\" d=\"M579.5,-187C579.5,-187 432.5,-187 432.5,-187 426.5,-187 420.5,-181 420.5,-175 420.5,-175 420.5,-116 420.5,-116 420.5,-110 426.5,-104 432.5,-104 432.5,-104 579.5,-104 579.5,-104 585.5,-104 591.5,-110 591.5,-116 591.5,-116 591.5,-175 591.5,-175 591.5,-181 585.5,-187 579.5,-187\"/>\n<text text-anchor=\"start\" x=\"428.5\" y=\"-171.8\" font-family=\"Helvetica,sans-Serif\" font-size=\"14.00\" fill=\"#000000\">sepal length (cm) ≤ 6.95</text>\n<text text-anchor=\"start\" x=\"468\" y=\"-156.8\" font-family=\"Helvetica,sans-Serif\" font-size=\"14.00\" fill=\"#000000\">gini = 0.444</text>\n<text text-anchor=\"start\" x=\"466.5\" y=\"-141.8\" font-family=\"Helvetica,sans-Serif\" font-size=\"14.00\" fill=\"#000000\">samples = 3</text>\n<text text-anchor=\"start\" x=\"456.5\" y=\"-126.8\" font-family=\"Helvetica,sans-Serif\" font-size=\"14.00\" fill=\"#000000\">value = [0, 2, 1]</text>\n<text text-anchor=\"start\" x=\"450\" y=\"-111.8\" font-family=\"Helvetica,sans-Serif\" font-size=\"14.00\" fill=\"#000000\">class = versicolor</text>\n</g>\n<!-- 7&#45;&gt;9 -->\n<g id=\"edge9\" class=\"edge\">\n<title>7&#45;&gt;9</title>\n<path fill=\"none\" stroke=\"#000000\" d=\"M461.1329,-222.8796C466.1461,-214.2335 471.4813,-205.0322 476.6581,-196.1042\"/>\n<polygon fill=\"#000000\" stroke=\"#000000\" points=\"479.7758,-197.7047 481.7641,-187.2981 473.7202,-194.1934 479.7758,-197.7047\"/>\n</g>\n<!-- 10 -->\n<g id=\"node11\" class=\"node\">\n<title>10</title>\n<path fill=\"#39e581\" stroke=\"#000000\" d=\"M487,-68C487,-68 383,-68 383,-68 377,-68 371,-62 371,-56 371,-56 371,-12 371,-12 371,-6 377,0 383,0 383,0 487,0 487,0 493,0 499,-6 499,-12 499,-12 499,-56 499,-56 499,-62 493,-68 487,-68\"/>\n<text text-anchor=\"start\" x=\"405.5\" y=\"-52.8\" font-family=\"Helvetica,sans-Serif\" font-size=\"14.00\" fill=\"#000000\">gini = 0.0</text>\n<text text-anchor=\"start\" x=\"395.5\" y=\"-37.8\" font-family=\"Helvetica,sans-Serif\" font-size=\"14.00\" fill=\"#000000\">samples = 2</text>\n<text text-anchor=\"start\" x=\"385.5\" y=\"-22.8\" font-family=\"Helvetica,sans-Serif\" font-size=\"14.00\" fill=\"#000000\">value = [0, 2, 0]</text>\n<text text-anchor=\"start\" x=\"379\" y=\"-7.8\" font-family=\"Helvetica,sans-Serif\" font-size=\"14.00\" fill=\"#000000\">class = versicolor</text>\n</g>\n<!-- 9&#45;&gt;10 -->\n<g id=\"edge10\" class=\"edge\">\n<title>9&#45;&gt;10</title>\n<path fill=\"none\" stroke=\"#000000\" d=\"M479.5622,-103.9815C473.944,-95.1585 468.0012,-85.8258 462.3497,-76.9506\"/>\n<polygon fill=\"#000000\" stroke=\"#000000\" points=\"465.1416,-74.8188 456.8181,-68.2637 459.2371,-78.5787 465.1416,-74.8188\"/>\n</g>\n<!-- 11 -->\n<g id=\"node12\" class=\"node\">\n<title>11</title>\n<path fill=\"#8139e5\" stroke=\"#000000\" d=\"M624.5,-68C624.5,-68 529.5,-68 529.5,-68 523.5,-68 517.5,-62 517.5,-56 517.5,-56 517.5,-12 517.5,-12 517.5,-6 523.5,0 529.5,0 529.5,0 624.5,0 624.5,0 630.5,0 636.5,-6 636.5,-12 636.5,-12 636.5,-56 636.5,-56 636.5,-62 630.5,-68 624.5,-68\"/>\n<text text-anchor=\"start\" x=\"547.5\" y=\"-52.8\" font-family=\"Helvetica,sans-Serif\" font-size=\"14.00\" fill=\"#000000\">gini = 0.0</text>\n<text text-anchor=\"start\" x=\"537.5\" y=\"-37.8\" font-family=\"Helvetica,sans-Serif\" font-size=\"14.00\" fill=\"#000000\">samples = 1</text>\n<text text-anchor=\"start\" x=\"527.5\" y=\"-22.8\" font-family=\"Helvetica,sans-Serif\" font-size=\"14.00\" fill=\"#000000\">value = [0, 0, 1]</text>\n<text text-anchor=\"start\" x=\"525.5\" y=\"-7.8\" font-family=\"Helvetica,sans-Serif\" font-size=\"14.00\" fill=\"#000000\">class = virginica</text>\n</g>\n<!-- 9&#45;&gt;11 -->\n<g id=\"edge11\" class=\"edge\">\n<title>9&#45;&gt;11</title>\n<path fill=\"none\" stroke=\"#000000\" d=\"M532.4378,-103.9815C538.056,-95.1585 543.9988,-85.8258 549.6503,-76.9506\"/>\n<polygon fill=\"#000000\" stroke=\"#000000\" points=\"552.7629,-78.5787 555.1819,-68.2637 546.8584,-74.8188 552.7629,-78.5787\"/>\n</g>\n<!-- 13 -->\n<g id=\"node14\" class=\"node\">\n<title>13</title>\n<path fill=\"#c09cf2\" stroke=\"#000000\" d=\"M747.5,-306C747.5,-306 600.5,-306 600.5,-306 594.5,-306 588.5,-300 588.5,-294 588.5,-294 588.5,-235 588.5,-235 588.5,-229 594.5,-223 600.5,-223 600.5,-223 747.5,-223 747.5,-223 753.5,-223 759.5,-229 759.5,-235 759.5,-235 759.5,-294 759.5,-294 759.5,-300 753.5,-306 747.5,-306\"/>\n<text text-anchor=\"start\" x=\"596.5\" y=\"-290.8\" font-family=\"Helvetica,sans-Serif\" font-size=\"14.00\" fill=\"#000000\">sepal length (cm) ≤ 5.95</text>\n<text text-anchor=\"start\" x=\"636\" y=\"-275.8\" font-family=\"Helvetica,sans-Serif\" font-size=\"14.00\" fill=\"#000000\">gini = 0.444</text>\n<text text-anchor=\"start\" x=\"634.5\" y=\"-260.8\" font-family=\"Helvetica,sans-Serif\" font-size=\"14.00\" fill=\"#000000\">samples = 3</text>\n<text text-anchor=\"start\" x=\"624.5\" y=\"-245.8\" font-family=\"Helvetica,sans-Serif\" font-size=\"14.00\" fill=\"#000000\">value = [0, 1, 2]</text>\n<text text-anchor=\"start\" x=\"622.5\" y=\"-230.8\" font-family=\"Helvetica,sans-Serif\" font-size=\"14.00\" fill=\"#000000\">class = virginica</text>\n</g>\n<!-- 12&#45;&gt;13 -->\n<g id=\"edge13\" class=\"edge\">\n<title>12&#45;&gt;13</title>\n<path fill=\"none\" stroke=\"#000000\" d=\"M674,-341.8796C674,-333.6838 674,-324.9891 674,-316.5013\"/>\n<polygon fill=\"#000000\" stroke=\"#000000\" points=\"677.5001,-316.298 674,-306.2981 670.5001,-316.2981 677.5001,-316.298\"/>\n</g>\n<!-- 16 -->\n<g id=\"node17\" class=\"node\">\n<title>16</title>\n<path fill=\"#8139e5\" stroke=\"#000000\" d=\"M888.5,-298.5C888.5,-298.5 789.5,-298.5 789.5,-298.5 783.5,-298.5 777.5,-292.5 777.5,-286.5 777.5,-286.5 777.5,-242.5 777.5,-242.5 777.5,-236.5 783.5,-230.5 789.5,-230.5 789.5,-230.5 888.5,-230.5 888.5,-230.5 894.5,-230.5 900.5,-236.5 900.5,-242.5 900.5,-242.5 900.5,-286.5 900.5,-286.5 900.5,-292.5 894.5,-298.5 888.5,-298.5\"/>\n<text text-anchor=\"start\" x=\"809.5\" y=\"-283.3\" font-family=\"Helvetica,sans-Serif\" font-size=\"14.00\" fill=\"#000000\">gini = 0.0</text>\n<text text-anchor=\"start\" x=\"795\" y=\"-268.3\" font-family=\"Helvetica,sans-Serif\" font-size=\"14.00\" fill=\"#000000\">samples = 43</text>\n<text text-anchor=\"start\" x=\"785.5\" y=\"-253.3\" font-family=\"Helvetica,sans-Serif\" font-size=\"14.00\" fill=\"#000000\">value = [0, 0, 43]</text>\n<text text-anchor=\"start\" x=\"787.5\" y=\"-238.3\" font-family=\"Helvetica,sans-Serif\" font-size=\"14.00\" fill=\"#000000\">class = virginica</text>\n</g>\n<!-- 12&#45;&gt;16 -->\n<g id=\"edge16\" class=\"edge\">\n<title>12&#45;&gt;16</title>\n<path fill=\"none\" stroke=\"#000000\" d=\"M731.709,-341.8796C748.407,-329.8368 766.5987,-316.7167 783.1793,-304.7586\"/>\n<polygon fill=\"#000000\" stroke=\"#000000\" points=\"785.6232,-307.3113 791.6865,-298.623 781.5285,-301.6339 785.6232,-307.3113\"/>\n</g>\n<!-- 14 -->\n<g id=\"node15\" class=\"node\">\n<title>14</title>\n<path fill=\"#39e581\" stroke=\"#000000\" d=\"M726,-179.5C726,-179.5 622,-179.5 622,-179.5 616,-179.5 610,-173.5 610,-167.5 610,-167.5 610,-123.5 610,-123.5 610,-117.5 616,-111.5 622,-111.5 622,-111.5 726,-111.5 726,-111.5 732,-111.5 738,-117.5 738,-123.5 738,-123.5 738,-167.5 738,-167.5 738,-173.5 732,-179.5 726,-179.5\"/>\n<text text-anchor=\"start\" x=\"644.5\" y=\"-164.3\" font-family=\"Helvetica,sans-Serif\" font-size=\"14.00\" fill=\"#000000\">gini = 0.0</text>\n<text text-anchor=\"start\" x=\"634.5\" y=\"-149.3\" font-family=\"Helvetica,sans-Serif\" font-size=\"14.00\" fill=\"#000000\">samples = 1</text>\n<text text-anchor=\"start\" x=\"624.5\" y=\"-134.3\" font-family=\"Helvetica,sans-Serif\" font-size=\"14.00\" fill=\"#000000\">value = [0, 1, 0]</text>\n<text text-anchor=\"start\" x=\"618\" y=\"-119.3\" font-family=\"Helvetica,sans-Serif\" font-size=\"14.00\" fill=\"#000000\">class = versicolor</text>\n</g>\n<!-- 13&#45;&gt;14 -->\n<g id=\"edge14\" class=\"edge\">\n<title>13&#45;&gt;14</title>\n<path fill=\"none\" stroke=\"#000000\" d=\"M674,-222.8796C674,-212.2134 674,-200.7021 674,-189.9015\"/>\n<polygon fill=\"#000000\" stroke=\"#000000\" points=\"677.5001,-189.8149 674,-179.8149 670.5001,-189.815 677.5001,-189.8149\"/>\n</g>\n<!-- 15 -->\n<g id=\"node16\" class=\"node\">\n<title>15</title>\n<path fill=\"#8139e5\" stroke=\"#000000\" d=\"M863.5,-179.5C863.5,-179.5 768.5,-179.5 768.5,-179.5 762.5,-179.5 756.5,-173.5 756.5,-167.5 756.5,-167.5 756.5,-123.5 756.5,-123.5 756.5,-117.5 762.5,-111.5 768.5,-111.5 768.5,-111.5 863.5,-111.5 863.5,-111.5 869.5,-111.5 875.5,-117.5 875.5,-123.5 875.5,-123.5 875.5,-167.5 875.5,-167.5 875.5,-173.5 869.5,-179.5 863.5,-179.5\"/>\n<text text-anchor=\"start\" x=\"786.5\" y=\"-164.3\" font-family=\"Helvetica,sans-Serif\" font-size=\"14.00\" fill=\"#000000\">gini = 0.0</text>\n<text text-anchor=\"start\" x=\"776.5\" y=\"-149.3\" font-family=\"Helvetica,sans-Serif\" font-size=\"14.00\" fill=\"#000000\">samples = 2</text>\n<text text-anchor=\"start\" x=\"766.5\" y=\"-134.3\" font-family=\"Helvetica,sans-Serif\" font-size=\"14.00\" fill=\"#000000\">value = [0, 0, 2]</text>\n<text text-anchor=\"start\" x=\"764.5\" y=\"-119.3\" font-family=\"Helvetica,sans-Serif\" font-size=\"14.00\" fill=\"#000000\">class = virginica</text>\n</g>\n<!-- 13&#45;&gt;15 -->\n<g id=\"edge15\" class=\"edge\">\n<title>13&#45;&gt;15</title>\n<path fill=\"none\" stroke=\"#000000\" d=\"M723.6647,-222.8796C737.8358,-211.0038 753.257,-198.0804 767.3658,-186.2568\"/>\n<polygon fill=\"#000000\" stroke=\"#000000\" points=\"769.6363,-188.9206 775.0528,-179.8149 765.1402,-183.5554 769.6363,-188.9206\"/>\n</g>\n</g>\n</svg>\n"
          },
          "metadata": {
            "tags": []
          },
          "execution_count": 12
        }
      ]
    },
    {
      "cell_type": "markdown",
      "metadata": {
        "id": "myMWoXhXn1T4",
        "colab_type": "text"
      },
      "source": [
        "### For understanding Decision Tree Regression, lets create our own dataset"
      ]
    },
    {
      "cell_type": "code",
      "metadata": {
        "id": "RAE-JtFfngi-",
        "colab_type": "code",
        "colab": {}
      },
      "source": [
        "# Import the necessary modules and libraries\n",
        "import numpy as np\n",
        "from sklearn.tree import DecisionTreeRegressor\n",
        "import matplotlib.pyplot as plt\n",
        "\n",
        "# Create a random dataset\n",
        "rng = np.random.RandomState(1)\n",
        "X = np.sort(5 * rng.rand(80, 1), axis=0)\n",
        "y = np.sin(X).ravel()\n",
        "y[::5] += 3 * (0.5 - rng.rand(16))\n"
      ],
      "execution_count": 13,
      "outputs": []
    },
    {
      "cell_type": "code",
      "metadata": {
        "id": "ldvyEORFn_si",
        "colab_type": "code",
        "colab": {
          "base_uri": "https://localhost:8080/",
          "height": 265
        },
        "outputId": "48672b5e-8c26-493f-c47b-8a5b8dcb58ab"
      },
      "source": [
        "plt.figure()\n",
        "plt.scatter(X, y, s=20, edgecolor=\"black\",\n",
        "            c=\"darkorange\", label=\"data\")\n",
        "plt.show()"
      ],
      "execution_count": 14,
      "outputs": [
        {
          "output_type": "display_data",
          "data": {
            "image/png": "[encoded data removed]",
            "text/plain": [
              "<Figure size 432x288 with 1 Axes>"
            ]
          },
          "metadata": {
            "tags": [],
            "needs_background": "light"
          }
        }
      ]
    },
    {
      "cell_type": "code",
      "metadata": {
        "id": "vgmFwLZooLRa",
        "colab_type": "code",
        "colab": {}
      },
      "source": [
        "# Fit regression model\n",
        "regr_1 = DecisionTreeRegressor(max_depth=2)\n",
        "regr_2 = DecisionTreeRegressor(max_depth=5)\n",
        "regr_1.fit(X, y)\n",
        "regr_2.fit(X, y)\n",
        "\n",
        "# Predict\n",
        "X_test = np.arange(0.0, 5.0, 0.01)[:, np.newaxis]\n",
        "y_1 = regr_1.predict(X_test)\n",
        "y_2 = regr_2.predict(X_test)\n",
        "\n"
      ],
      "execution_count": 15,
      "outputs": []
    },
    {
      "cell_type": "code",
      "metadata": {
        "id": "j3t35y6HoywL",
        "colab_type": "code",
        "colab": {
          "base_uri": "https://localhost:8080/",
          "height": 252
        },
        "outputId": "30b77365-eebe-4baf-c20c-2e29ef46e07d"
      },
      "source": [
        "print(y)"
      ],
      "execution_count": 17,
      "outputs": [
        {
          "output_type": "stream",
          "text": [
            "[-1.1493464   0.09131401  0.09668352  0.13651039  0.19403525 -0.12383814\n",
            "  0.26365828  0.41252216  0.44546446  0.47215529 -0.26319138  0.49351799\n",
            "  0.60530013  0.63450933  0.64144608  1.09900119  0.66957978  0.66968122\n",
            "  0.73574834  0.75072053  1.4926134   0.8363043   0.8532893   0.87144496\n",
            "  0.97060533 -0.20183403  0.99131122  0.99472837  0.99825213  0.99999325\n",
            "  1.21570343  0.98769965  0.98591565  0.9159044   0.91406986 -0.51669013\n",
            "  0.8775346   0.87063055  0.86993408  0.86523559  0.37007575  0.78464608\n",
            "  0.63168655  0.53722799  0.45801971  0.08075119  0.43272116  0.34115328\n",
            "  0.26769953  0.20730318  1.34959235 -0.17645185 -0.20918837 -0.24990778\n",
            " -0.28068224 -1.63529379 -0.31247075 -0.31458595 -0.32442911 -0.34965155\n",
            " -0.29371122 -0.46921115 -0.56401144 -0.57215326 -0.57488849 -0.95586361\n",
            " -0.75923066 -0.78043659 -0.85808859 -0.94589863 -0.6730775  -0.94870673\n",
            " -0.97149093 -0.98097408 -0.98568417 -0.20828128 -0.99994398 -0.99703245\n",
            " -0.99170146 -0.9732277 ]\n"
          ],
          "name": "stdout"
        }
      ]
    },
    {
      "cell_type": "code",
      "metadata": {
        "id": "BAtJhVxfoz6k",
        "colab_type": "code",
        "colab": {
          "base_uri": "https://localhost:8080/",
          "height": 1000
        },
        "outputId": "7703dc2a-1719-413c-a5fd-5f82f1289fca"
      },
      "source": [
        "print(y_1)"
      ],
      "execution_count": 20,
      "outputs": [
        {
          "output_type": "stream",
          "text": [
            "[ 0.05236068  0.05236068  0.05236068  0.05236068  0.05236068  0.05236068\n",
            "  0.05236068  0.05236068  0.05236068  0.05236068  0.05236068  0.05236068\n",
            "  0.05236068  0.05236068  0.05236068  0.05236068  0.05236068  0.05236068\n",
            "  0.05236068  0.05236068  0.05236068  0.05236068  0.05236068  0.05236068\n",
            "  0.05236068  0.05236068  0.05236068  0.05236068  0.05236068  0.05236068\n",
            "  0.05236068  0.05236068  0.05236068  0.05236068  0.05236068  0.05236068\n",
            "  0.05236068  0.05236068  0.05236068  0.05236068  0.05236068  0.05236068\n",
            "  0.05236068  0.05236068  0.05236068  0.05236068  0.05236068  0.05236068\n",
            "  0.05236068  0.05236068  0.05236068  0.05236068  0.71382568  0.71382568\n",
            "  0.71382568  0.71382568  0.71382568  0.71382568  0.71382568  0.71382568\n",
            "  0.71382568  0.71382568  0.71382568  0.71382568  0.71382568  0.71382568\n",
            "  0.71382568  0.71382568  0.71382568  0.71382568  0.71382568  0.71382568\n",
            "  0.71382568  0.71382568  0.71382568  0.71382568  0.71382568  0.71382568\n",
            "  0.71382568  0.71382568  0.71382568  0.71382568  0.71382568  0.71382568\n",
            "  0.71382568  0.71382568  0.71382568  0.71382568  0.71382568  0.71382568\n",
            "  0.71382568  0.71382568  0.71382568  0.71382568  0.71382568  0.71382568\n",
            "  0.71382568  0.71382568  0.71382568  0.71382568  0.71382568  0.71382568\n",
            "  0.71382568  0.71382568  0.71382568  0.71382568  0.71382568  0.71382568\n",
            "  0.71382568  0.71382568  0.71382568  0.71382568  0.71382568  0.71382568\n",
            "  0.71382568  0.71382568  0.71382568  0.71382568  0.71382568  0.71382568\n",
            "  0.71382568  0.71382568  0.71382568  0.71382568  0.71382568  0.71382568\n",
            "  0.71382568  0.71382568  0.71382568  0.71382568  0.71382568  0.71382568\n",
            "  0.71382568  0.71382568  0.71382568  0.71382568  0.71382568  0.71382568\n",
            "  0.71382568  0.71382568  0.71382568  0.71382568  0.71382568  0.71382568\n",
            "  0.71382568  0.71382568  0.71382568  0.71382568  0.71382568  0.71382568\n",
            "  0.71382568  0.71382568  0.71382568  0.71382568  0.71382568  0.71382568\n",
            "  0.71382568  0.71382568  0.71382568  0.71382568  0.71382568  0.71382568\n",
            "  0.71382568  0.71382568  0.71382568  0.71382568  0.71382568  0.71382568\n",
            "  0.71382568  0.71382568  0.71382568  0.71382568  0.71382568  0.71382568\n",
            "  0.71382568  0.71382568  0.71382568  0.71382568  0.71382568  0.71382568\n",
            "  0.71382568  0.71382568  0.71382568  0.71382568  0.71382568  0.71382568\n",
            "  0.71382568  0.71382568  0.71382568  0.71382568  0.71382568  0.71382568\n",
            "  0.71382568  0.71382568  0.71382568  0.71382568  0.71382568  0.71382568\n",
            "  0.71382568  0.71382568  0.71382568  0.71382568  0.71382568  0.71382568\n",
            "  0.71382568  0.71382568  0.71382568  0.71382568  0.71382568  0.71382568\n",
            "  0.71382568  0.71382568  0.71382568  0.71382568  0.71382568  0.71382568\n",
            "  0.71382568  0.71382568  0.71382568  0.71382568  0.71382568  0.71382568\n",
            "  0.71382568  0.71382568  0.71382568  0.71382568  0.71382568  0.71382568\n",
            "  0.71382568  0.71382568  0.71382568  0.71382568  0.71382568  0.71382568\n",
            "  0.71382568  0.71382568  0.71382568  0.71382568  0.71382568  0.71382568\n",
            "  0.71382568  0.71382568  0.71382568  0.71382568  0.71382568  0.71382568\n",
            "  0.71382568  0.71382568  0.71382568  0.71382568  0.71382568  0.71382568\n",
            "  0.71382568  0.71382568  0.71382568  0.71382568  0.71382568  0.71382568\n",
            "  0.71382568  0.71382568  0.71382568  0.71382568  0.71382568  0.71382568\n",
            "  0.71382568  0.71382568  0.71382568  0.71382568  0.71382568  0.71382568\n",
            "  0.71382568  0.71382568  0.71382568  0.71382568  0.71382568  0.71382568\n",
            "  0.71382568  0.71382568  0.71382568  0.71382568  0.71382568  0.71382568\n",
            "  0.71382568  0.71382568  0.71382568  0.71382568  0.71382568  0.71382568\n",
            "  0.71382568  0.71382568  0.71382568  0.71382568  0.71382568  0.71382568\n",
            "  0.71382568  0.71382568  0.71382568  0.71382568  0.71382568  0.71382568\n",
            "  0.71382568  0.71382568  0.71382568  0.71382568  0.71382568  0.71382568\n",
            "  0.71382568  0.71382568  0.71382568  0.71382568  0.71382568  0.71382568\n",
            "  0.71382568  0.71382568 -0.45190264 -0.45190264 -0.45190264 -0.45190264\n",
            " -0.45190264 -0.45190264 -0.45190264 -0.45190264 -0.45190264 -0.45190264\n",
            " -0.45190264 -0.45190264 -0.45190264 -0.45190264 -0.45190264 -0.45190264\n",
            " -0.45190264 -0.45190264 -0.45190264 -0.45190264 -0.45190264 -0.45190264\n",
            " -0.45190264 -0.45190264 -0.45190264 -0.45190264 -0.45190264 -0.45190264\n",
            " -0.45190264 -0.45190264 -0.45190264 -0.45190264 -0.45190264 -0.45190264\n",
            " -0.45190264 -0.45190264 -0.45190264 -0.45190264 -0.45190264 -0.45190264\n",
            " -0.45190264 -0.45190264 -0.45190264 -0.45190264 -0.45190264 -0.45190264\n",
            " -0.45190264 -0.45190264 -0.45190264 -0.45190264 -0.45190264 -0.45190264\n",
            " -0.45190264 -0.45190264 -0.45190264 -0.45190264 -0.45190264 -0.45190264\n",
            " -0.45190264 -0.45190264 -0.45190264 -0.45190264 -0.45190264 -0.45190264\n",
            " -0.45190264 -0.45190264 -0.45190264 -0.45190264 -0.45190264 -0.45190264\n",
            " -0.45190264 -0.45190264 -0.86864256 -0.86864256 -0.86864256 -0.86864256\n",
            " -0.86864256 -0.86864256 -0.86864256 -0.86864256 -0.86864256 -0.86864256\n",
            " -0.86864256 -0.86864256 -0.86864256 -0.86864256 -0.86864256 -0.86864256\n",
            " -0.86864256 -0.86864256 -0.86864256 -0.86864256 -0.86864256 -0.86864256\n",
            " -0.86864256 -0.86864256 -0.86864256 -0.86864256 -0.86864256 -0.86864256\n",
            " -0.86864256 -0.86864256 -0.86864256 -0.86864256 -0.86864256 -0.86864256\n",
            " -0.86864256 -0.86864256 -0.86864256 -0.86864256 -0.86864256 -0.86864256\n",
            " -0.86864256 -0.86864256 -0.86864256 -0.86864256 -0.86864256 -0.86864256\n",
            " -0.86864256 -0.86864256 -0.86864256 -0.86864256 -0.86864256 -0.86864256\n",
            " -0.86864256 -0.86864256 -0.86864256 -0.86864256 -0.86864256 -0.86864256\n",
            " -0.86864256 -0.86864256 -0.86864256 -0.86864256 -0.86864256 -0.86864256\n",
            " -0.86864256 -0.86864256 -0.86864256 -0.86864256 -0.86864256 -0.86864256\n",
            " -0.86864256 -0.86864256 -0.86864256 -0.86864256 -0.86864256 -0.86864256\n",
            " -0.86864256 -0.86864256 -0.86864256 -0.86864256 -0.86864256 -0.86864256\n",
            " -0.86864256 -0.86864256 -0.86864256 -0.86864256 -0.86864256 -0.86864256\n",
            " -0.86864256 -0.86864256 -0.86864256 -0.86864256 -0.86864256 -0.86864256\n",
            " -0.86864256 -0.86864256 -0.86864256 -0.86864256 -0.86864256 -0.86864256\n",
            " -0.86864256 -0.86864256 -0.86864256 -0.86864256 -0.86864256 -0.86864256\n",
            " -0.86864256 -0.86864256 -0.86864256 -0.86864256 -0.86864256 -0.86864256\n",
            " -0.86864256 -0.86864256]\n"
          ],
          "name": "stdout"
        }
      ]
    },
    {
      "cell_type": "code",
      "metadata": {
        "id": "n0yif-xZo1xm",
        "colab_type": "code",
        "colab": {
          "base_uri": "https://localhost:8080/",
          "height": 1000
        },
        "outputId": "ec109697-f4e1-4142-f41a-78d309313076"
      },
      "source": [
        "print(y_2)"
      ],
      "execution_count": 19,
      "outputs": [
        {
          "output_type": "stream",
          "text": [
            "[-1.1493464  -1.1493464  -1.1493464  -1.1493464  -1.1493464   0.07894101\n",
            "  0.07894101  0.07894101  0.07894101  0.07894101  0.07894101  0.07894101\n",
            "  0.07894101  0.07894101  0.07894101  0.07894101  0.07894101  0.07894101\n",
            "  0.07894101  0.07894101  0.07894101  0.07894101  0.07894101  0.07894101\n",
            "  0.07894101  0.07894101  0.39845005  0.39845005  0.39845005  0.39845005\n",
            "  0.39845005  0.39845005  0.39845005  0.39845005  0.39845005  0.39845005\n",
            "  0.39845005  0.39845005  0.39845005  0.39845005  0.39845005  0.39845005\n",
            "  0.39845005  0.39845005  0.39845005  0.39845005  0.39845005  0.39845005\n",
            "  0.39845005  0.39845005  0.39845005 -0.26319138  0.80884013  0.80884013\n",
            "  0.80884013  0.80884013  0.80884013  0.80884013  0.80884013  0.80884013\n",
            "  0.80884013  0.80884013  0.80884013  0.80884013  0.80884013  0.80884013\n",
            "  0.80884013  0.80884013  0.80884013  0.80884013  0.80884013  0.80884013\n",
            "  0.80884013  0.80884013  0.80884013  0.80884013  0.80884013  0.80884013\n",
            "  0.80884013  0.80884013  0.80884013  0.80884013  0.80884013  0.80884013\n",
            "  0.80884013  0.80884013  0.80884013  0.80884013  0.80884013  0.80884013\n",
            "  0.80884013  0.80884013  0.80884013  0.80884013  0.80884013  0.80884013\n",
            "  0.80884013  0.80884013  0.80884013  0.80884013  0.80884013  0.80884013\n",
            "  0.80884013  0.80884013  0.80884013  0.80884013  0.80884013  0.80884013\n",
            "  0.80884013  0.80884013  0.80884013  0.80884013  0.80884013  0.80884013\n",
            "  0.80884013  0.80884013  0.80884013  0.80884013  0.80884013  0.80884013\n",
            "  0.80884013  0.80884013  0.80884013  0.80884013  0.80884013  0.80884013\n",
            "  0.80884013  0.80884013  0.80884013  0.80884013  0.80884013  0.80884013\n",
            "  0.80884013  0.80884013  0.80884013  0.80884013  0.80884013 -0.20183403\n",
            " -0.20183403 -0.20183403 -0.20183403 -0.20183403 -0.20183403  1.02480053\n",
            "  1.02480053  1.02480053  1.02480053  1.02480053  1.02480053  1.02480053\n",
            "  1.02480053  1.02480053  1.02480053  1.02480053  1.02480053  1.02480053\n",
            "  1.02480053  1.02480053  1.02480053  1.02480053  1.02480053  1.02480053\n",
            "  1.02480053  1.02480053  1.02480053  1.02480053  1.02480053  1.02480053\n",
            "  1.02480053  1.02480053  1.02480053  1.02480053  1.02480053  1.02480053\n",
            "  1.02480053  1.02480053  1.02480053  1.02480053  1.02480053  1.02480053\n",
            "  1.02480053  1.02480053  1.02480053  1.02480053  1.02480053  1.02480053\n",
            "  1.02480053  0.91498713  0.91498713  0.91498713  0.91498713  0.91498713\n",
            "  0.91498713  0.91498713  0.91498713  0.91498713  0.91498713  0.91498713\n",
            "  0.91498713  0.91498713  0.91498713  0.91498713  0.91498713 -0.51669013\n",
            " -0.51669013 -0.51669013 -0.51669013 -0.51669013  0.5424728   0.5424728\n",
            "  0.5424728   0.5424728   0.5424728   0.5424728   0.5424728   0.5424728\n",
            "  0.5424728   0.5424728   0.5424728   0.5424728   0.5424728   0.5424728\n",
            "  0.5424728   0.5424728   0.5424728   0.5424728   0.5424728   0.5424728\n",
            "  0.5424728   0.5424728   0.5424728   0.5424728   0.5424728   0.5424728\n",
            "  0.5424728   0.5424728   0.5424728   0.5424728   0.5424728   0.5424728\n",
            "  0.5424728   0.5424728   0.5424728   0.5424728   0.5424728   0.5424728\n",
            "  0.5424728   0.5424728   0.5424728   0.5424728   0.5424728   0.5424728\n",
            "  0.5424728   0.5424728   0.5424728   0.5424728   0.5424728   0.5424728\n",
            "  0.5424728   0.5424728   0.5424728   0.5424728   0.5424728   0.5424728\n",
            "  0.5424728   0.5424728   0.5424728   0.5424728   0.5424728   0.5424728\n",
            "  0.5424728   0.5424728   0.5424728   0.5424728   0.5424728   0.5424728\n",
            "  0.5424728   0.5424728   0.5424728   0.5424728   0.5424728   0.5424728\n",
            "  0.5424728   0.5424728   0.5424728   0.5424728   0.5424728   0.5424728\n",
            "  0.5424728   0.5424728   0.5424728   0.5424728   0.5424728   0.5424728\n",
            "  1.34959235  1.34959235  1.34959235  1.34959235  1.34959235  1.34959235\n",
            "  1.34959235  1.34959235  1.34959235  1.34959235  1.34959235  1.34959235\n",
            "  1.34959235  1.34959235  1.34959235  1.34959235  1.34959235  1.34959235\n",
            "  1.34959235  1.34959235 -0.17645185 -0.17645185 -0.17645185 -0.17645185\n",
            " -0.17645185 -0.17645185 -0.17645185 -0.17645185 -0.17645185 -0.17645185\n",
            " -0.17645185 -0.17645185 -0.17645185 -0.17645185 -0.17645185 -0.17645185\n",
            " -0.17645185 -0.17645185 -0.17645185 -0.17645185 -0.20918837 -0.20918837\n",
            " -0.20918837 -0.20918837 -0.24990778 -0.24990778 -0.24990778 -0.24990778\n",
            " -0.28068224 -1.63529379 -1.63529379 -0.31896972 -0.31896972 -0.31896972\n",
            " -0.31896972 -0.31896972 -0.31896972 -0.31896972 -0.31896972 -0.31896972\n",
            " -0.31896972 -0.31896972 -0.31896972 -0.31896972 -0.31896972 -0.31896972\n",
            " -0.31896972 -0.31896972 -0.54506608 -0.54506608 -0.54506608 -0.54506608\n",
            " -0.54506608 -0.54506608 -0.54506608 -0.54506608 -0.54506608 -0.54506608\n",
            " -0.54506608 -0.54506608 -0.54506608 -0.54506608 -0.54506608 -0.54506608\n",
            " -0.54506608 -0.54506608 -0.54506608 -0.54506608 -0.54506608 -0.54506608\n",
            " -0.54506608 -0.54506608 -0.82876593 -0.82876593 -0.82876593 -0.82876593\n",
            " -0.82876593 -0.82876593 -0.82876593 -0.82876593 -0.82876593 -0.82876593\n",
            " -0.82876593 -0.82876593 -0.82876593 -0.82876593 -0.82876593 -0.82876593\n",
            " -0.82876593 -0.82876593 -0.82876593 -0.82876593 -0.82876593 -0.82876593\n",
            " -0.82876593 -0.82876593 -0.82876593 -0.82876593 -0.82876593 -0.82876593\n",
            " -0.82876593 -0.82876593 -0.82876593 -0.82876593 -0.82876593 -0.82876593\n",
            " -0.82876593 -0.82876593 -0.82876593 -0.82876593 -0.82876593 -0.82876593\n",
            " -0.82876593 -0.82876593 -0.82876593 -0.82876593 -0.82876593 -0.82876593\n",
            " -0.82876593 -0.82876593 -0.82876593 -0.82876593 -0.82876593 -0.82876593\n",
            " -0.82876593 -0.82876593 -0.97171398 -0.97171398 -0.97171398 -0.97171398\n",
            " -0.97171398 -0.97171398 -0.97171398 -0.97171398 -0.97171398 -0.97171398\n",
            " -0.97171398 -0.97171398 -0.97171398 -0.97171398 -0.97171398 -0.97171398\n",
            " -0.97171398 -0.97171398 -0.97171398 -0.97171398 -0.20828128 -0.20828128\n",
            " -0.20828128 -0.20828128 -0.20828128 -0.20828128 -0.20828128 -0.20828128\n",
            " -0.20828128 -0.99848822 -0.99848822 -0.99848822 -0.99848822 -0.99848822\n",
            " -0.99848822 -0.99848822 -0.99848822 -0.99848822 -0.99848822 -0.99848822\n",
            " -0.99848822 -0.99848822 -0.99170146 -0.99170146 -0.99170146 -0.99170146\n",
            " -0.99170146 -0.99170146 -0.99170146 -0.99170146 -0.9732277  -0.9732277\n",
            " -0.9732277  -0.9732277  -0.9732277  -0.9732277  -0.9732277  -0.9732277\n",
            " -0.9732277  -0.9732277 ]\n"
          ],
          "name": "stdout"
        }
      ]
    },
    {
      "cell_type": "code",
      "metadata": {
        "id": "WjmK28oBoVQN",
        "colab_type": "code",
        "colab": {
          "base_uri": "https://localhost:8080/",
          "height": 295
        },
        "outputId": "2e3faf8a-5b04-4546-f8d6-acf80ab0c2f3"
      },
      "source": [
        "# Plot the results\n",
        "plt.figure()\n",
        "plt.scatter(X, y, s=20, edgecolor=\"black\",\n",
        "            c=\"darkorange\", label=\"data\")\n",
        "plt.plot(X_test, y_1, color=\"cornflowerblue\",\n",
        "         label=\"max_depth=2\", linewidth=2)\n",
        "plt.plot(X_test, y_2, color=\"yellowgreen\", label=\"max_depth=5\", linewidth=2)\n",
        "plt.xlabel(\"data\")\n",
        "plt.ylabel(\"target\")\n",
        "plt.title(\"Decision Tree Regression\")\n",
        "plt.legend()\n",
        "plt.show()"
      ],
      "execution_count": 16,
      "outputs": [
        {
          "output_type": "display_data",
          "data": {
            "image/png": "[encoded data removed]",
            "text/plain": [
              "<Figure size 432x288 with 1 Axes>"
            ]
          },
          "metadata": {
            "tags": [],
            "needs_background": "light"
          }
        }
      ]
    }
  ]
}