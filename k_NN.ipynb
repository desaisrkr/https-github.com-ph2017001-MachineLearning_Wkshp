{
  "nbformat": 4,
  "nbformat_minor": 0,
  "metadata": {
    "colab": {
      "name": "k-NN.ipynb",
      "provenance": [],
      "collapsed_sections": [],
      "authorship_tag": "ABX9TyO6pZ5MVoggrtWHdQbbcwn2",
      "include_colab_link": true
    },
    "kernelspec": {
      "name": "python3",
      "display_name": "Python 3"
    }
  },
  "cells": [
    {
      "cell_type": "markdown",
      "metadata": {
        "id": "view-in-github",
        "colab_type": "text"
      },
      "source": [
        "<a href=\"https://colab.research.google.com/github/ph2017001/MachineLearning_Wkshp/blob/master/k_NN.ipynb\" target=\"_parent\"><img src=\"https://colab.research.google.com/assets/colab-badge.svg\" alt=\"Open In Colab\"/></a>"
      ]
    },
    {
      "cell_type": "markdown",
      "metadata": {
        "id": "A8N8hHXna4Qh",
        "colab_type": "text"
      },
      "source": [
        "#### Load Iris Dataset from sklearn and perfrom k-NN Classification and Regression o"
      ]
    },
    {
      "cell_type": "code",
      "metadata": {
        "id": "1X14Acsx-F0L",
        "colab_type": "code",
        "colab": {}
      },
      "source": [
        "from sklearn.datasets import load_iris"
      ],
      "execution_count": 1,
      "outputs": []
    },
    {
      "cell_type": "code",
      "metadata": {
        "id": "5ANUUKTebQV_",
        "colab_type": "code",
        "colab": {}
      },
      "source": [
        "X,y = load_iris(return_X_y=True)"
      ],
      "execution_count": 2,
      "outputs": []
    },
    {
      "cell_type": "code",
      "metadata": {
        "id": "mS2d4UyNbgoN",
        "colab_type": "code",
        "colab": {}
      },
      "source": [
        "from sklearn.model_selection import train_test_split\n",
        "X_train, X_test, y_train, y_test = train_test_split(X[:,:2], y, test_size = 0.30)"
      ],
      "execution_count": 18,
      "outputs": []
    },
    {
      "cell_type": "markdown",
      "metadata": {
        "id": "MSENO1_-cHz1",
        "colab_type": "text"
      },
      "source": [
        "#### Scale the data using Standard Scaler"
      ]
    },
    {
      "cell_type": "code",
      "metadata": {
        "id": "l5VGdXXmb4uG",
        "colab_type": "code",
        "colab": {}
      },
      "source": [
        "from sklearn.preprocessing import StandardScaler\n",
        "scaler = StandardScaler()\n",
        "scaler.fit(X_train)\n",
        "X_train = scaler.transform(X_train)\n",
        "X_test = scaler.transform(X_test)"
      ],
      "execution_count": 19,
      "outputs": []
    },
    {
      "cell_type": "code",
      "metadata": {
        "id": "yC4IhCFJcQRl",
        "colab_type": "code",
        "colab": {
          "base_uri": "https://localhost:8080/",
          "height": 1000
        },
        "outputId": "37bb02dd-a531-4078-a72a-4853345f058a"
      },
      "source": [
        "print(X_train)"
      ],
      "execution_count": 20,
      "outputs": [
        {
          "output_type": "stream",
          "text": [
            "[[-0.51090949  1.4706548 ]\n",
            " [-1.73290257 -0.3327759 ]\n",
            " [ 0.71108359 -0.55820474]\n",
            " [-0.02211226  2.14694131]\n",
            " [-0.87750741  0.56893945]\n",
            " [ 1.68867806 -0.10734707]\n",
            " [-1.12190603 -0.10734707]\n",
            " [ 1.07768152 -0.10734707]\n",
            " [ 1.07768152  0.11808177]\n",
            " [-0.7553081   1.01979712]\n",
            " [-0.38871018  2.59779899]\n",
            " [-0.99970672  0.79436829]\n",
            " [ 1.81087737 -0.3327759 ]\n",
            " [ 0.10008705 -0.10734707]\n",
            " [ 0.34448567 -1.00906242]\n",
            " [-0.99970672 -2.36163544]\n",
            " [-0.02211226 -0.78363358]\n",
            " [-0.7553081   2.37237015]\n",
            " [ 0.58888429  0.79436829]\n",
            " [ 0.58888429 -1.23449125]\n",
            " [-0.14431156 -1.00906242]\n",
            " [ 0.22228636 -0.3327759 ]\n",
            " [ 1.07768152 -0.10734707]\n",
            " [-0.99970672  1.01979712]\n",
            " [-0.14431156 -0.55820474]\n",
            " [-1.24410534 -0.10734707]\n",
            " [ 1.19988083 -0.55820474]\n",
            " [-0.14431156 -1.23449125]\n",
            " [ 0.58888429 -1.23449125]\n",
            " [ 0.95548221 -0.3327759 ]\n",
            " [-1.12190603 -1.23449125]\n",
            " [-0.87750741  1.69608364]\n",
            " [ 0.58888429 -0.3327759 ]\n",
            " [ 0.71108359  0.34351061]\n",
            " [-0.99970672  0.79436829]\n",
            " [-1.24410534 -0.10734707]\n",
            " [-0.99970672  1.01979712]\n",
            " [-0.38871018 -1.00906242]\n",
            " [ 2.54407322  1.69608364]\n",
            " [-0.02211226 -0.78363358]\n",
            " [ 1.68867806  0.34351061]\n",
            " [-0.26651087 -1.23449125]\n",
            " [ 0.46668498  0.79436829]\n",
            " [ 0.34448567 -0.3327759 ]\n",
            " [ 2.2996746  -0.10734707]\n",
            " [-0.87750741  0.79436829]\n",
            " [-1.12190603  1.24522596]\n",
            " [-0.38871018 -1.45992009]\n",
            " [-0.14431156  1.69608364]\n",
            " [ 0.71108359 -0.3327759 ]\n",
            " [-0.38871018  1.01979712]\n",
            " [ 0.22228636 -0.10734707]\n",
            " [-0.02211226 -0.78363358]\n",
            " [ 0.46668498 -1.91077777]\n",
            " [ 1.07768152  0.11808177]\n",
            " [ 0.34448567 -0.55820474]\n",
            " [-0.02211226 -0.78363358]\n",
            " [ 0.58888429 -0.55820474]\n",
            " [-0.38871018 -1.45992009]\n",
            " [-0.02211226 -0.55820474]\n",
            " [-0.51090949  0.79436829]\n",
            " [ 1.68867806  1.24522596]\n",
            " [-0.87750741  1.01979712]\n",
            " [-1.48850395  0.11808177]\n",
            " [-0.7553081  -0.78363358]\n",
            " [ 0.58888429  0.56893945]\n",
            " [-0.87750741 -1.23449125]\n",
            " [ 0.34448567 -0.55820474]\n",
            " [-0.02211226 -1.00906242]\n",
            " [-0.26651087 -0.55820474]\n",
            " [ 0.46668498 -0.3327759 ]\n",
            " [ 0.34448567 -0.10734707]\n",
            " [-0.26651087 -0.10734707]\n",
            " [ 0.95548221 -0.10734707]\n",
            " [-1.73290257 -0.10734707]\n",
            " [-1.85510188 -0.10734707]\n",
            " [-0.51090949 -0.10734707]\n",
            " [-0.87750741  1.69608364]\n",
            " [-0.38871018 -1.23449125]\n",
            " [ 0.10008705  0.34351061]\n",
            " [ 1.32208013  0.11808177]\n",
            " [ 0.71108359  0.34351061]\n",
            " [-0.99970672  1.24522596]\n",
            " [-1.73290257  0.34351061]\n",
            " [ 1.56647875 -0.10734707]\n",
            " [-1.24410534  0.79436829]\n",
            " [ 1.93307668 -0.55820474]\n",
            " [-1.48850395  0.79436829]\n",
            " [-0.14431156 -0.3327759 ]\n",
            " [ 0.71108359 -0.78363358]\n",
            " [-0.87750741  1.01979712]\n",
            " [ 0.58888429 -0.78363358]\n",
            " [ 2.2996746  -1.00906242]\n",
            " [-1.12190603  0.11808177]\n",
            " [ 0.22228636 -1.91077777]\n",
            " [ 1.07768152  0.56893945]\n",
            " [ 0.10008705 -0.10734707]\n",
            " [-1.36630465  0.34351061]\n",
            " [ 0.22228636 -0.78363358]\n",
            " [-1.48850395  0.34351061]\n",
            " [ 0.8332829   0.34351061]\n",
            " [-0.14431156  3.04865666]\n",
            " [-0.87750741  1.4706548 ]\n",
            " [-0.38871018 -1.68534893]\n",
            " [ 2.2996746  -0.55820474]]\n"
          ],
          "name": "stdout"
        }
      ]
    },
    {
      "cell_type": "code",
      "metadata": {
        "id": "muqXXupya3u7",
        "colab_type": "code",
        "colab": {
          "base_uri": "https://localhost:8080/",
          "height": 67
        },
        "outputId": "48c3fe3c-5e28-4071-92da-3a003ee67262"
      },
      "source": [
        "from sklearn.neighbors import KNeighborsClassifier\n",
        "classifier = KNeighborsClassifier(n_neighbors = 8)\n",
        "classifier.fit(X_train, y_train)"
      ],
      "execution_count": 21,
      "outputs": [
        {
          "output_type": "execute_result",
          "data": {
            "text/plain": [
              "KNeighborsClassifier(algorithm='auto', leaf_size=30, metric='minkowski',\n",
              "                     metric_params=None, n_jobs=None, n_neighbors=8, p=2,\n",
              "                     weights='uniform')"
            ]
          },
          "metadata": {
            "tags": []
          },
          "execution_count": 21
        }
      ]
    },
    {
      "cell_type": "code",
      "metadata": {
        "id": "6QE8wC91elIs",
        "colab_type": "code",
        "colab": {}
      },
      "source": [
        "y_pred = classifier.predict(X_test)"
      ],
      "execution_count": 22,
      "outputs": []
    },
    {
      "cell_type": "code",
      "metadata": {
        "id": "u4P0YUzjepHV",
        "colab_type": "code",
        "colab": {
          "base_uri": "https://localhost:8080/",
          "height": 50
        },
        "outputId": "015d5991-4f3b-40d9-8ddb-3e0efe5bca8e"
      },
      "source": [
        "print(y_pred)"
      ],
      "execution_count": 23,
      "outputs": [
        {
          "output_type": "stream",
          "text": [
            "[2 0 1 1 1 0 1 1 2 1 2 1 1 2 0 0 1 1 2 0 1 2 2 2 2 0 0 1 0 0 1 2 0 0 2 2 1\n",
            " 1 1 0 0 0 1 1 2]\n"
          ],
          "name": "stdout"
        }
      ]
    },
    {
      "cell_type": "code",
      "metadata": {
        "id": "-s9HfmcMetYg",
        "colab_type": "code",
        "colab": {
          "base_uri": "https://localhost:8080/",
          "height": 286
        },
        "outputId": "311e6004-8b91-4bc7-9722-e0f8bccd90c2"
      },
      "source": [
        "from sklearn.metrics import classification_report, confusion_matrix, accuracy_score\n",
        "result = confusion_matrix(y_test, y_pred)\n",
        "print(\"Confusion Matrix:\")\n",
        "print(result)\n",
        "clf_rep = classification_report(y_test, y_pred)\n",
        "print(\"Classification Report:\",)\n",
        "print (clf_rep)\n",
        "acc_scr = accuracy_score(y_test,y_pred)\n",
        "print(\"Accuracy:\",acc_scr)"
      ],
      "execution_count": 24,
      "outputs": [
        {
          "output_type": "stream",
          "text": [
            "Confusion Matrix:\n",
            "[[14  1  0]\n",
            " [ 0 11  4]\n",
            " [ 0  6  9]]\n",
            "Classification Report:\n",
            "              precision    recall  f1-score   support\n",
            "\n",
            "           0       1.00      0.93      0.97        15\n",
            "           1       0.61      0.73      0.67        15\n",
            "           2       0.69      0.60      0.64        15\n",
            "\n",
            "    accuracy                           0.76        45\n",
            "   macro avg       0.77      0.76      0.76        45\n",
            "weighted avg       0.77      0.76      0.76        45\n",
            "\n",
            "Accuracy: 0.7555555555555555\n"
          ],
          "name": "stdout"
        }
      ]
    },
    {
      "cell_type": "markdown",
      "metadata": {
        "id": "VIy4XMiXftsD",
        "colab_type": "text"
      },
      "source": [
        "### k-NN Regressor"
      ]
    },
    {
      "cell_type": "code",
      "metadata": {
        "id": "23Rq0k0VfJcF",
        "colab_type": "code",
        "colab": {}
      },
      "source": [
        "X,y = load_iris(return_X_y=True)"
      ],
      "execution_count": 28,
      "outputs": []
    },
    {
      "cell_type": "code",
      "metadata": {
        "id": "A1f_Px8VgLPx",
        "colab_type": "code",
        "colab": {}
      },
      "source": [
        "y = X[:,2]"
      ],
      "execution_count": 29,
      "outputs": []
    },
    {
      "cell_type": "code",
      "metadata": {
        "id": "FCM4CiC6f1Om",
        "colab_type": "code",
        "colab": {}
      },
      "source": [
        "X = X[:,:2]"
      ],
      "execution_count": 30,
      "outputs": []
    },
    {
      "cell_type": "code",
      "metadata": {
        "id": "tB3dYLZMgRuf",
        "colab_type": "code",
        "colab": {
          "base_uri": "https://localhost:8080/",
          "height": 185
        },
        "outputId": "72961e82-9b4a-4415-dbd1-e273860d1de3"
      },
      "source": [
        "X[:10]"
      ],
      "execution_count": 32,
      "outputs": [
        {
          "output_type": "execute_result",
          "data": {
            "text/plain": [
              "array([[5.1, 3.5],\n",
              "       [4.9, 3. ],\n",
              "       [4.7, 3.2],\n",
              "       [4.6, 3.1],\n",
              "       [5. , 3.6],\n",
              "       [5.4, 3.9],\n",
              "       [4.6, 3.4],\n",
              "       [5. , 3.4],\n",
              "       [4.4, 2.9],\n",
              "       [4.9, 3.1]])"
            ]
          },
          "metadata": {
            "tags": []
          },
          "execution_count": 32
        }
      ]
    },
    {
      "cell_type": "code",
      "metadata": {
        "id": "A53ZuWhbgcWR",
        "colab_type": "code",
        "colab": {
          "base_uri": "https://localhost:8080/",
          "height": 34
        },
        "outputId": "732d0476-69dc-4cbf-9ec2-2fec54f00017"
      },
      "source": [
        "y[:10]"
      ],
      "execution_count": 33,
      "outputs": [
        {
          "output_type": "execute_result",
          "data": {
            "text/plain": [
              "array([1.4, 1.4, 1.3, 1.5, 1.4, 1.7, 1.4, 1.5, 1.4, 1.5])"
            ]
          },
          "metadata": {
            "tags": []
          },
          "execution_count": 33
        }
      ]
    },
    {
      "cell_type": "code",
      "metadata": {
        "id": "WhiK29i8geyU",
        "colab_type": "code",
        "colab": {
          "base_uri": "https://localhost:8080/",
          "height": 67
        },
        "outputId": "79a79c9e-32e4-4247-8033-9ff55833b6ea"
      },
      "source": [
        "from sklearn.neighbors import KNeighborsRegressor\n",
        "knnr = KNeighborsRegressor(n_neighbors = 10)\n",
        "knnr.fit(X, y)"
      ],
      "execution_count": 34,
      "outputs": [
        {
          "output_type": "execute_result",
          "data": {
            "text/plain": [
              "KNeighborsRegressor(algorithm='auto', leaf_size=30, metric='minkowski',\n",
              "                    metric_params=None, n_jobs=None, n_neighbors=10, p=2,\n",
              "                    weights='uniform')"
            ]
          },
          "metadata": {
            "tags": []
          },
          "execution_count": 34
        }
      ]
    },
    {
      "cell_type": "code",
      "metadata": {
        "id": "yPLLtGYaglZ8",
        "colab_type": "code",
        "colab": {
          "base_uri": "https://localhost:8080/",
          "height": 252
        },
        "outputId": "efc92140-dbc7-4485-f790-9e92a7480a02"
      },
      "source": [
        "knnr.predict(X)"
      ],
      "execution_count": 35,
      "outputs": [
        {
          "output_type": "execute_result",
          "data": {
            "text/plain": [
              "array([1.46, 1.45, 1.51, 1.42, 1.46, 1.56, 1.46, 1.46, 1.37, 1.46, 1.52,\n",
              "       1.52, 1.48, 1.37, 1.46, 1.52, 1.56, 1.46, 1.48, 1.49, 1.5 , 1.49,\n",
              "       1.46, 1.44, 1.52, 1.47, 1.46, 1.46, 1.52, 1.51, 1.48, 1.5 , 1.54,\n",
              "       1.49, 1.46, 1.49, 1.49, 1.47, 1.37, 1.48, 1.46, 2.41, 1.39, 1.46,\n",
              "       1.49, 1.48, 1.49, 1.49, 1.53, 1.48, 5.49, 5.32, 5.19, 4.05, 5.16,\n",
              "       4.52, 5.12, 3.17, 5.02, 3.64, 3.44, 4.6 , 4.59, 4.69, 4.28, 5.21,\n",
              "       4.37, 4.36, 4.87, 4.05, 4.7 , 4.72, 5.01, 4.72, 5.19, 5.04, 5.02,\n",
              "       5.07, 4.66, 4.33, 4.05, 4.05, 4.36, 4.68, 4.22, 4.95, 5.21, 4.94,\n",
              "       4.37, 4.14, 4.19, 4.58, 4.44, 3.43, 4.21, 4.36, 4.43, 4.72, 3.79,\n",
              "       4.52, 5.12, 4.36, 5.53, 5.02, 5.02, 6.11, 2.72, 5.96, 5.06, 5.62,\n",
              "       5.3 , 5.07, 5.17, 4.23, 4.5 , 5.32, 5.02, 6.04, 6.11, 4.59, 5.34,\n",
              "       4.36, 6.11, 5.11, 5.33, 5.59, 4.93, 4.58, 5.04, 5.59, 6.11, 6.14,\n",
              "       5.04, 5.02, 4.88, 6.11, 5.23, 5.16, 4.63, 5.19, 5.21, 5.19, 4.36,\n",
              "       5.31, 5.33, 5.07, 5.01, 5.02, 5.14, 4.6 ])"
            ]
          },
          "metadata": {
            "tags": []
          },
          "execution_count": 35
        }
      ]
    },
    {
      "cell_type": "code",
      "metadata": {
        "id": "A4ODalxAgqfS",
        "colab_type": "code",
        "colab": {
          "base_uri": "https://localhost:8080/",
          "height": 34
        },
        "outputId": "425b9951-9df1-4fc9-d6bb-86c4d121193a"
      },
      "source": [
        "knnr.score(X,y)"
      ],
      "execution_count": 36,
      "outputs": [
        {
          "output_type": "execute_result",
          "data": {
            "text/plain": [
              "0.9449465827197909"
            ]
          },
          "metadata": {
            "tags": []
          },
          "execution_count": 36
        }
      ]
    },
    {
      "cell_type": "code",
      "metadata": {
        "id": "6St_beSPg3-F",
        "colab_type": "code",
        "colab": {}
      },
      "source": [
        "import numpy as np"
      ],
      "execution_count": 38,
      "outputs": []
    },
    {
      "cell_type": "code",
      "metadata": {
        "id": "suLa8LtXgzJ7",
        "colab_type": "code",
        "colab": {
          "base_uri": "https://localhost:8080/",
          "height": 34
        },
        "outputId": "af35a31b-64c6-473d-9842-66c2858ff55d"
      },
      "source": [
        "print (\"The MSE is:\",format(np.power(y-knnr.predict(X),2).mean()))"
      ],
      "execution_count": 39,
      "outputs": [
        {
          "output_type": "stream",
          "text": [
            "The MSE is: 0.17041799999999996\n"
          ],
          "name": "stdout"
        }
      ]
    }
  ]
}