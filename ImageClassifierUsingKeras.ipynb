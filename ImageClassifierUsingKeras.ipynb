{
  "nbformat": 4,
  "nbformat_minor": 0,
  "metadata": {
    "colab": {
      "name": "ImageClassifierUsingKeras.ipynb",
      "provenance": [],
      "collapsed_sections": [],
      "authorship_tag": "ABX9TyNUpG+Mt/FVHqBtcNIicM6Z",
      "include_colab_link": true
    },
    "kernelspec": {
      "name": "python3",
      "display_name": "Python 3"
    }
  },
  "cells": [
    {
      "cell_type": "markdown",
      "metadata": {
        "id": "view-in-github",
        "colab_type": "text"
      },
      "source": [
        "<a href=\"https://colab.research.google.com/github/ph2017001/MachineLearning_Wkshp/blob/master/ImageClassifierUsingKeras.ipynb\" target=\"_parent\"><img src=\"https://colab.research.google.com/assets/colab-badge.svg\" alt=\"Open In Colab\"/></a>"
      ]
    },
    {
      "cell_type": "code",
      "metadata": {
        "id": "TognM0eXxPEE",
        "colab_type": "code",
        "colab": {}
      },
      "source": [
        "from tensorflow import keras\n",
        "import numpy as np"
      ],
      "execution_count": 1,
      "outputs": []
    },
    {
      "cell_type": "code",
      "metadata": {
        "id": "RzTGE6PtxbI0",
        "colab_type": "code",
        "colab": {
          "base_uri": "https://localhost:8080/",
          "height": 151
        },
        "outputId": "69fae366-998f-4fff-d383-4c4742f07cc4"
      },
      "source": [
        "fashion_mnist = keras.datasets.fashion_mnist\n",
        "(X_train_full, y_train_full), (X_test, y_test) = fashion_mnist.load_data()"
      ],
      "execution_count": 2,
      "outputs": [
        {
          "output_type": "stream",
          "text": [
            "Downloading data from https://storage.googleapis.com/tensorflow/tf-keras-datasets/train-labels-idx1-ubyte.gz\n",
            "32768/29515 [=================================] - 0s 0us/step\n",
            "Downloading data from https://storage.googleapis.com/tensorflow/tf-keras-datasets/train-images-idx3-ubyte.gz\n",
            "26427392/26421880 [==============================] - 0s 0us/step\n",
            "Downloading data from https://storage.googleapis.com/tensorflow/tf-keras-datasets/t10k-labels-idx1-ubyte.gz\n",
            "8192/5148 [===============================================] - 0s 0us/step\n",
            "Downloading data from https://storage.googleapis.com/tensorflow/tf-keras-datasets/t10k-images-idx3-ubyte.gz\n",
            "4423680/4422102 [==============================] - 0s 0us/step\n"
          ],
          "name": "stdout"
        }
      ]
    },
    {
      "cell_type": "markdown",
      "metadata": {
        "id": "vd3LF3m7xw51",
        "colab_type": "text"
      },
      "source": [
        "When loading MNIST or Fashion MNIST using Keras rather than Scikit-Learn, one important difference is that every image is represented as a 28 × 28 array rather than a 1D array of size 784. Moreover, the pixel intensities are represented as integers (from 0 to 255) rather than floats (from 0.0 to 255.0). Let’s take a look at the shape and data type of the training set:"
      ]
    },
    {
      "cell_type": "code",
      "metadata": {
        "id": "admVrwBIxjb7",
        "colab_type": "code",
        "colab": {
          "base_uri": "https://localhost:8080/",
          "height": 34
        },
        "outputId": "ea2c0d3d-cc24-4c47-c100-051ee602a6c7"
      },
      "source": [
        "X_train_full.shape"
      ],
      "execution_count": 3,
      "outputs": [
        {
          "output_type": "execute_result",
          "data": {
            "text/plain": [
              "(60000, 28, 28)"
            ]
          },
          "metadata": {
            "tags": []
          },
          "execution_count": 3
        }
      ]
    },
    {
      "cell_type": "code",
      "metadata": {
        "id": "23u_ZFE0xmT5",
        "colab_type": "code",
        "colab": {
          "base_uri": "https://localhost:8080/",
          "height": 34
        },
        "outputId": "da10ff74-a6ea-4cbe-d0b7-555bbf563396"
      },
      "source": [
        "X_train_full.dtype"
      ],
      "execution_count": 4,
      "outputs": [
        {
          "output_type": "execute_result",
          "data": {
            "text/plain": [
              "dtype('uint8')"
            ]
          },
          "metadata": {
            "tags": []
          },
          "execution_count": 4
        }
      ]
    },
    {
      "cell_type": "markdown",
      "metadata": {
        "id": "jEEGjSAox5fE",
        "colab_type": "text"
      },
      "source": [
        "The dataset is already split into a training set and a test set, but there is no validation set, so we’ll create one now. Additionally, since we are going to train the neural network using Gradient Descent, we must scale the input features. For simplicity, we’ll scale the pixel intensities down to the 0–1 range by dividing them by 255.0 (this also converts them to floats):"
      ]
    },
    {
      "cell_type": "code",
      "metadata": {
        "id": "WT3HySI4xonk",
        "colab_type": "code",
        "colab": {}
      },
      "source": [
        "X_valid, X_train = X_train_full[:5000] / 255.0, X_train_full[5000:] / 255.0\n",
        "y_valid, y_train = y_train_full[:5000], y_train_full[5000:]\n",
        "X_test = X_test / 255.0"
      ],
      "execution_count": 5,
      "outputs": []
    },
    {
      "cell_type": "markdown",
      "metadata": {
        "id": "saTxxWMpx_Du",
        "colab_type": "text"
      },
      "source": [
        "With MNIST, when the label is equal to 5, it means that the image represents the handwritten digit 5. Easy. For Fashion MNIST, however, we need the list of class names to know what we are dealing with:"
      ]
    },
    {
      "cell_type": "code",
      "metadata": {
        "id": "tyvVIfOEyIS9",
        "colab_type": "code",
        "colab": {}
      },
      "source": [
        "class_names = [\"T-shirt/top\", \"Trouser\", \"Pullover\", \"Dress\", \"Coat\",\n",
        "               \"Sandal\", \"Shirt\", \"Sneaker\", \"Bag\", \"Ankle boot\"]"
      ],
      "execution_count": 6,
      "outputs": []
    },
    {
      "cell_type": "markdown",
      "metadata": {
        "id": "D1Ccw9ATyMCF",
        "colab_type": "text"
      },
      "source": [
        "For example, the first image in the training set represents a coat:"
      ]
    },
    {
      "cell_type": "code",
      "metadata": {
        "id": "XfPxiy6OyQ3q",
        "colab_type": "code",
        "colab": {
          "base_uri": "https://localhost:8080/",
          "height": 35
        },
        "outputId": "e941ec52-7c37-48e3-b880-6ec69e82c073"
      },
      "source": [
        "class_names[y_train[0]]"
      ],
      "execution_count": 7,
      "outputs": [
        {
          "output_type": "execute_result",
          "data": {
            "application/vnd.google.colaboratory.intrinsic+json": {
              "type": "string"
            },
            "text/plain": [
              "'Coat'"
            ]
          },
          "metadata": {
            "tags": []
          },
          "execution_count": 7
        }
      ]
    },
    {
      "cell_type": "markdown",
      "metadata": {
        "id": "7JYlZ-IoyTzx",
        "colab_type": "text"
      },
      "source": [
        "### CREATING THE MODEL USING THE SEQUENTIAL API\n",
        "Now let’s build the neural network! Here is a classification MLP with two hidden layers:"
      ]
    },
    {
      "cell_type": "code",
      "metadata": {
        "id": "cab37tN7yc10",
        "colab_type": "code",
        "colab": {}
      },
      "source": [
        "model = keras.models.Sequential()\n",
        "model.add(keras.layers.Flatten(input_shape=[28, 28]))\n",
        "model.add(keras.layers.Dense(300, activation=\"relu\"))\n",
        "model.add(keras.layers.Dense(100, activation=\"relu\"))\n",
        "model.add(keras.layers.Dense(10, activation=\"softmax\"))"
      ],
      "execution_count": 8,
      "outputs": []
    },
    {
      "cell_type": "markdown",
      "metadata": {
        "id": "HTdJWkJnyj3h",
        "colab_type": "text"
      },
      "source": [
        "- The first line creates a Sequential model. This is the simplest kind of Keras model for neural networks that are just composed of a single stack of layers connected sequentially. This is called the Sequential API.\n",
        "\n",
        "- Next, we build the first layer and add it to the model. It is a Flatten layer whose role is to convert each input image into a 1D array: if it receives input data X, it computes X.reshape(-1, 1). This layer does not have any parameters; it is just there to do some simple preprocessing. Since it is the first layer in the model, you should specify the input_shape, which doesn’t include the batch size, only the shape of the instances. Alternatively, you could add a keras.layers.InputLayer as the first layer, setting input_shape=[28,28].\n",
        "\n",
        "- Next we add a Dense hidden layer with 300 neurons. It will use the ReLU activation function. Each Dense layer manages its own weight matrix, containing all the connection weights between the neurons and their inputs. It also manages a vector of bias terms (one per neuron). \n",
        "\n",
        "- Then we add a second Dense hidden layer with 100 neurons, also using the ReLU activation function.\n",
        "\n",
        "- Finally, we add a Dense output layer with 10 neurons (one per class), using the softmax activation function (because the classes are exclusive)."
      ]
    },
    {
      "cell_type": "markdown",
      "metadata": {
        "id": "S3rL6n4DzBcZ",
        "colab_type": "text"
      },
      "source": [
        "Instead of adding the layers one by one as we just did, you can pass a list of layers when creating the Sequential model:"
      ]
    },
    {
      "cell_type": "code",
      "metadata": {
        "id": "5tLItsTOy9ky",
        "colab_type": "code",
        "colab": {}
      },
      "source": [
        "# model = keras.models.Sequential([\n",
        "#     keras.layers.Flatten(input_shape=[28, 28]),\n",
        "#     keras.layers.Dense(300, activation=\"relu\"),\n",
        "#     keras.layers.Dense(100, activation=\"relu\"),\n",
        "#     keras.layers.Dense(10, activation=\"softmax\")\n",
        "# ])"
      ],
      "execution_count": null,
      "outputs": []
    },
    {
      "cell_type": "markdown",
      "metadata": {
        "id": "l5UASBNXzRcA",
        "colab_type": "text"
      },
      "source": [
        ""
      ]
    },
    {
      "cell_type": "code",
      "metadata": {
        "id": "zfqDojRRzR06",
        "colab_type": "code",
        "colab": {}
      },
      "source": [
        "output_layer = keras.layers.Dense(10)"
      ],
      "execution_count": null,
      "outputs": []
    },
    {
      "cell_type": "code",
      "metadata": {
        "id": "it1YPfsWzdpk",
        "colab_type": "code",
        "colab": {
          "base_uri": "https://localhost:8080/",
          "height": 286
        },
        "outputId": "455aa1a4-f936-4d8e-9a19-b4bd4e65eb5e"
      },
      "source": [
        "model.summary()"
      ],
      "execution_count": 9,
      "outputs": [
        {
          "output_type": "stream",
          "text": [
            "Model: \"sequential\"\n",
            "_________________________________________________________________\n",
            "Layer (type)                 Output Shape              Param #   \n",
            "=================================================================\n",
            "flatten (Flatten)            (None, 784)               0         \n",
            "_________________________________________________________________\n",
            "dense (Dense)                (None, 300)               235500    \n",
            "_________________________________________________________________\n",
            "dense_1 (Dense)              (None, 100)               30100     \n",
            "_________________________________________________________________\n",
            "dense_2 (Dense)              (None, 10)                1010      \n",
            "=================================================================\n",
            "Total params: 266,610\n",
            "Trainable params: 266,610\n",
            "Non-trainable params: 0\n",
            "_________________________________________________________________\n"
          ],
          "name": "stdout"
        }
      ]
    },
    {
      "cell_type": "markdown",
      "metadata": {
        "id": "z-3ydTMOzmeX",
        "colab_type": "text"
      },
      "source": [
        "Note that Dense layers often have a lot of parameters. For example, the first hidden layer has 784 × 300 connection weights, plus 300 bias terms, which adds up to 235,500 parameters! This gives the model quite a lot of flexibility to fit the training data, but it also means that the model runs the risk of overfitting, especially when you do not have a lot of training data. "
      ]
    },
    {
      "cell_type": "code",
      "metadata": {
        "id": "pUsbBDf3zfZT",
        "colab_type": "code",
        "colab": {
          "base_uri": "https://localhost:8080/",
          "height": 84
        },
        "outputId": "172a5964-12b4-49c2-dbd1-1b0f30640ec5"
      },
      "source": [
        "model.layers"
      ],
      "execution_count": 10,
      "outputs": [
        {
          "output_type": "execute_result",
          "data": {
            "text/plain": [
              "[<tensorflow.python.keras.layers.core.Flatten at 0x7fc2e5010438>,\n",
              " <tensorflow.python.keras.layers.core.Dense at 0x7fc2e4fd5198>,\n",
              " <tensorflow.python.keras.layers.core.Dense at 0x7fc2e4b9a198>,\n",
              " <tensorflow.python.keras.layers.core.Dense at 0x7fc2e4b9a4e0>]"
            ]
          },
          "metadata": {
            "tags": []
          },
          "execution_count": 10
        }
      ]
    },
    {
      "cell_type": "code",
      "metadata": {
        "id": "1VEukzghzpMj",
        "colab_type": "code",
        "colab": {}
      },
      "source": [
        "hidden1 = model.layers[1]"
      ],
      "execution_count": 11,
      "outputs": []
    },
    {
      "cell_type": "code",
      "metadata": {
        "id": "1J05CHUczrCq",
        "colab_type": "code",
        "colab": {
          "base_uri": "https://localhost:8080/",
          "height": 35
        },
        "outputId": "3a37c0d7-6fee-4b70-db2f-9cb73d8fe680"
      },
      "source": [
        "hidden1.name"
      ],
      "execution_count": 12,
      "outputs": [
        {
          "output_type": "execute_result",
          "data": {
            "application/vnd.google.colaboratory.intrinsic+json": {
              "type": "string"
            },
            "text/plain": [
              "'dense'"
            ]
          },
          "metadata": {
            "tags": []
          },
          "execution_count": 12
        }
      ]
    },
    {
      "cell_type": "code",
      "metadata": {
        "id": "rZMbEsAGzs9z",
        "colab_type": "code",
        "colab": {}
      },
      "source": [
        "model.get_layer('dense') is hidden1"
      ],
      "execution_count": null,
      "outputs": []
    },
    {
      "cell_type": "markdown",
      "metadata": {
        "id": "hZUQhQCfz4eL",
        "colab_type": "text"
      },
      "source": [
        "All the parameters of a layer can be accessed using its get_weights() and set_weights() methods"
      ]
    },
    {
      "cell_type": "code",
      "metadata": {
        "id": "icHlpqvez5as",
        "colab_type": "code",
        "colab": {}
      },
      "source": [
        "weights, biases = hidden1.get_weights()"
      ],
      "execution_count": 13,
      "outputs": []
    },
    {
      "cell_type": "code",
      "metadata": {
        "id": "r7Nva3fiz74r",
        "colab_type": "code",
        "colab": {
          "base_uri": "https://localhost:8080/",
          "height": 235
        },
        "outputId": "680df3b4-e04c-4ee1-c1b7-dcb4190687aa"
      },
      "source": [
        "weights"
      ],
      "execution_count": 14,
      "outputs": [
        {
          "output_type": "execute_result",
          "data": {
            "text/plain": [
              "array([[ 0.05432279,  0.04857799,  0.02928623, ..., -0.04676798,\n",
              "        -0.0690281 ,  0.04782846],\n",
              "       [-0.07342072,  0.02058458, -0.03663935, ...,  0.0638855 ,\n",
              "         0.05712844,  0.02800915],\n",
              "       [ 0.00958646, -0.04876468,  0.03676938, ...,  0.01614436,\n",
              "        -0.0530329 ,  0.07297415],\n",
              "       ...,\n",
              "       [-0.00726873,  0.03602778, -0.01339871, ..., -0.01547906,\n",
              "        -0.03348595,  0.03879558],\n",
              "       [-0.04206883,  0.03533188, -0.00983449, ..., -0.05082707,\n",
              "         0.07076606,  0.02633436],\n",
              "       [-0.00276214,  0.04057926,  0.07239085, ...,  0.0733076 ,\n",
              "        -0.03279757, -0.06938972]], dtype=float32)"
            ]
          },
          "metadata": {
            "tags": []
          },
          "execution_count": 14
        }
      ]
    },
    {
      "cell_type": "code",
      "metadata": {
        "id": "Ivrv9CQ3z98f",
        "colab_type": "code",
        "colab": {
          "base_uri": "https://localhost:8080/",
          "height": 34
        },
        "outputId": "47afdecf-0fae-4190-a1f2-2a315a4d5153"
      },
      "source": [
        "weights.shape"
      ],
      "execution_count": 15,
      "outputs": [
        {
          "output_type": "execute_result",
          "data": {
            "text/plain": [
              "(784, 300)"
            ]
          },
          "metadata": {
            "tags": []
          },
          "execution_count": 15
        }
      ]
    },
    {
      "cell_type": "code",
      "metadata": {
        "id": "FsAWx4Eoz_Eo",
        "colab_type": "code",
        "colab": {
          "base_uri": "https://localhost:8080/",
          "height": 34
        },
        "outputId": "837717b1-19d4-4211-98f6-3f5a7424053d"
      },
      "source": [
        "biases.shape"
      ],
      "execution_count": 16,
      "outputs": [
        {
          "output_type": "execute_result",
          "data": {
            "text/plain": [
              "(300,)"
            ]
          },
          "metadata": {
            "tags": []
          },
          "execution_count": 16
        }
      ]
    },
    {
      "cell_type": "markdown",
      "metadata": {
        "id": "oMp6A77o0I-J",
        "colab_type": "text"
      },
      "source": [
        "The shape of the weight matrix depends on the number of inputs. This is why it is recommended to specify the input_shape when creating the first layer in a Sequential model. However, if you do not specify the input shape, it’s OK: Keras will simply wait until it knows the input shape before it actually builds the model. "
      ]
    },
    {
      "cell_type": "markdown",
      "metadata": {
        "id": "Akjh6e3J0Mz_",
        "colab_type": "text"
      },
      "source": [
        "### COMPILING THE MODEL\n",
        "After a model is created, you must call its compile() method to specify the loss function and the optimizer to use. Optionally, you can specify a list of extra metrics to compute during training and evaluation:"
      ]
    },
    {
      "cell_type": "code",
      "metadata": {
        "id": "OFvzIHQT0Bep",
        "colab_type": "code",
        "colab": {}
      },
      "source": [
        "model.compile(loss=\"sparse_categorical_crossentropy\",\n",
        "              optimizer=\"sgd\",\n",
        "              metrics=[\"accuracy\"])"
      ],
      "execution_count": 17,
      "outputs": []
    },
    {
      "cell_type": "markdown",
      "metadata": {
        "id": "tl-DR-X50Zqs",
        "colab_type": "text"
      },
      "source": [
        "We use the \"sparse_categorical_crossentropy\" loss because we have sparse labels (i.e., for each instance, there is just a target class index, from 0 to 9 in this case), and the classes are exclusive. If instead we had one target probability per class for each instance (such as one-hot vectors, e.g. [0., 0., 0., 1., 0., 0., 0., 0., 0., 0.] to represent class 3), then we would need to use the \"categorical_crossentropy\" loss instead. If we were doing binary classification (with one or more binary labels), then we would use the \"sigmoid\" (i.e., logistic) activation function in the output layer instead of the \"softmax\" activation function, and we would use the \"binary_crossentropy\" loss."
      ]
    },
    {
      "cell_type": "markdown",
      "metadata": {
        "id": "b5D_b-c60iVO",
        "colab_type": "text"
      },
      "source": [
        "### TRAINING AND EVALUATING THE MODEL\n",
        "Now the model is ready to be trained. For this we simply need to call its fit() method:"
      ]
    },
    {
      "cell_type": "code",
      "metadata": {
        "id": "CZPXbf-10b9v",
        "colab_type": "code",
        "colab": {
          "base_uri": "https://localhost:8080/",
          "height": 1000
        },
        "outputId": "4406c67c-044c-497a-bb78-61b729659b17"
      },
      "source": [
        "history = model.fit(X_train, y_train, epochs=30, validation_data=(X_valid, y_valid))"
      ],
      "execution_count": 18,
      "outputs": [
        {
          "output_type": "stream",
          "text": [
            "Epoch 1/30\n",
            "1719/1719 [==============================] - 5s 3ms/step - loss: 0.7132 - accuracy: 0.7653 - val_loss: 0.5072 - val_accuracy: 0.8274\n",
            "Epoch 2/30\n",
            "1719/1719 [==============================] - 5s 3ms/step - loss: 0.4898 - accuracy: 0.8290 - val_loss: 0.4548 - val_accuracy: 0.8422\n",
            "Epoch 3/30\n",
            "1719/1719 [==============================] - 5s 3ms/step - loss: 0.4436 - accuracy: 0.8454 - val_loss: 0.4140 - val_accuracy: 0.8582\n",
            "Epoch 4/30\n",
            "1719/1719 [==============================] - 5s 3ms/step - loss: 0.4190 - accuracy: 0.8535 - val_loss: 0.4007 - val_accuracy: 0.8640\n",
            "Epoch 5/30\n",
            "1719/1719 [==============================] - 5s 3ms/step - loss: 0.3972 - accuracy: 0.8609 - val_loss: 0.3891 - val_accuracy: 0.8674\n",
            "Epoch 6/30\n",
            "1719/1719 [==============================] - 5s 3ms/step - loss: 0.3816 - accuracy: 0.8658 - val_loss: 0.3942 - val_accuracy: 0.8608\n",
            "Epoch 7/30\n",
            "1719/1719 [==============================] - 5s 3ms/step - loss: 0.3675 - accuracy: 0.8699 - val_loss: 0.3959 - val_accuracy: 0.8588\n",
            "Epoch 8/30\n",
            "1719/1719 [==============================] - 5s 3ms/step - loss: 0.3565 - accuracy: 0.8734 - val_loss: 0.3817 - val_accuracy: 0.8682\n",
            "Epoch 9/30\n",
            "1719/1719 [==============================] - 5s 3ms/step - loss: 0.3463 - accuracy: 0.8763 - val_loss: 0.3456 - val_accuracy: 0.8766\n",
            "Epoch 10/30\n",
            "1719/1719 [==============================] - 5s 3ms/step - loss: 0.3352 - accuracy: 0.8797 - val_loss: 0.3900 - val_accuracy: 0.8622\n",
            "Epoch 11/30\n",
            "1719/1719 [==============================] - 5s 3ms/step - loss: 0.3274 - accuracy: 0.8833 - val_loss: 0.3359 - val_accuracy: 0.8774\n",
            "Epoch 12/30\n",
            "1719/1719 [==============================] - 5s 3ms/step - loss: 0.3188 - accuracy: 0.8846 - val_loss: 0.3570 - val_accuracy: 0.8720\n",
            "Epoch 13/30\n",
            "1719/1719 [==============================] - 5s 3ms/step - loss: 0.3129 - accuracy: 0.8871 - val_loss: 0.3339 - val_accuracy: 0.8818\n",
            "Epoch 14/30\n",
            "1719/1719 [==============================] - 5s 3ms/step - loss: 0.3052 - accuracy: 0.8903 - val_loss: 0.3307 - val_accuracy: 0.8802\n",
            "Epoch 15/30\n",
            "1719/1719 [==============================] - 5s 3ms/step - loss: 0.3000 - accuracy: 0.8925 - val_loss: 0.3272 - val_accuracy: 0.8822\n",
            "Epoch 16/30\n",
            "1719/1719 [==============================] - 5s 3ms/step - loss: 0.2933 - accuracy: 0.8942 - val_loss: 0.3191 - val_accuracy: 0.8852\n",
            "Epoch 17/30\n",
            "1719/1719 [==============================] - 5s 3ms/step - loss: 0.2881 - accuracy: 0.8961 - val_loss: 0.3156 - val_accuracy: 0.8852\n",
            "Epoch 18/30\n",
            "1719/1719 [==============================] - 5s 3ms/step - loss: 0.2809 - accuracy: 0.8989 - val_loss: 0.3151 - val_accuracy: 0.8828\n",
            "Epoch 19/30\n",
            "1719/1719 [==============================] - 5s 3ms/step - loss: 0.2765 - accuracy: 0.8996 - val_loss: 0.3311 - val_accuracy: 0.8822\n",
            "Epoch 20/30\n",
            "1719/1719 [==============================] - 5s 3ms/step - loss: 0.2706 - accuracy: 0.9018 - val_loss: 0.3179 - val_accuracy: 0.8836\n",
            "Epoch 21/30\n",
            "1719/1719 [==============================] - 5s 3ms/step - loss: 0.2654 - accuracy: 0.9039 - val_loss: 0.3048 - val_accuracy: 0.8878\n",
            "Epoch 22/30\n",
            "1719/1719 [==============================] - 5s 3ms/step - loss: 0.2610 - accuracy: 0.9061 - val_loss: 0.3097 - val_accuracy: 0.8862\n",
            "Epoch 23/30\n",
            "1719/1719 [==============================] - 5s 3ms/step - loss: 0.2565 - accuracy: 0.9076 - val_loss: 0.3020 - val_accuracy: 0.8890\n",
            "Epoch 24/30\n",
            "1719/1719 [==============================] - 5s 3ms/step - loss: 0.2518 - accuracy: 0.9088 - val_loss: 0.3018 - val_accuracy: 0.8906\n",
            "Epoch 25/30\n",
            "1719/1719 [==============================] - 5s 3ms/step - loss: 0.2470 - accuracy: 0.9106 - val_loss: 0.3043 - val_accuracy: 0.8916\n",
            "Epoch 26/30\n",
            "1719/1719 [==============================] - 5s 3ms/step - loss: 0.2428 - accuracy: 0.9123 - val_loss: 0.3125 - val_accuracy: 0.8876\n",
            "Epoch 27/30\n",
            "1719/1719 [==============================] - 5s 3ms/step - loss: 0.2389 - accuracy: 0.9138 - val_loss: 0.2999 - val_accuracy: 0.8872\n",
            "Epoch 28/30\n",
            "1719/1719 [==============================] - 5s 3ms/step - loss: 0.2351 - accuracy: 0.9156 - val_loss: 0.2903 - val_accuracy: 0.8960\n",
            "Epoch 29/30\n",
            "1719/1719 [==============================] - 5s 3ms/step - loss: 0.2303 - accuracy: 0.9169 - val_loss: 0.2979 - val_accuracy: 0.8940\n",
            "Epoch 30/30\n",
            "1719/1719 [==============================] - 5s 3ms/step - loss: 0.2272 - accuracy: 0.9172 - val_loss: 0.2952 - val_accuracy: 0.8942\n"
          ],
          "name": "stdout"
        }
      ]
    },
    {
      "cell_type": "markdown",
      "metadata": {
        "id": "QALohlsC0u4Y",
        "colab_type": "text"
      },
      "source": [
        "And that’s it! The neural network is trained."
      ]
    },
    {
      "cell_type": "markdown",
      "metadata": {
        "id": "V-_OsOqg04Qc",
        "colab_type": "text"
      },
      "source": [
        "The fit() method returns a History object containing the training parameters (history.params), the list of epochs it went through (history.epoch), and most importantly a dictionary (history.history) containing the loss and extra metrics it measured at the end of each epoch on the training set and on the validation set"
      ]
    },
    {
      "cell_type": "code",
      "metadata": {
        "id": "-76Mgi_s0RKw",
        "colab_type": "code",
        "colab": {
          "base_uri": "https://localhost:8080/",
          "height": 324
        },
        "outputId": "13383669-ad5c-4943-f72a-adbd24ae2d34"
      },
      "source": [
        "import pandas as pd\n",
        "import matplotlib.pyplot as plt\n",
        "\n",
        "pd.DataFrame(history.history).plot(figsize=(8, 5))\n",
        "plt.grid(True)\n",
        "plt.gca().set_ylim(0, 1) # set the vertical range to [0-1]\n",
        "plt.show()"
      ],
      "execution_count": 19,
      "outputs": [
        {
          "output_type": "display_data",
          "data": {
            "image/png": "[encoded data removed]",
            "text/plain": [
              "<Figure size 576x360 with 1 Axes>"
            ]
          },
          "metadata": {
            "tags": [],
            "needs_background": "light"
          }
        }
      ]
    },
    {
      "cell_type": "markdown",
      "metadata": {
        "id": "S0l6GJP-G4TJ",
        "colab_type": "text"
      },
      "source": [
        "You can see that both the training accuracy and the validation accuracy steadily increase during training, while the training loss and the validation loss decrease. <br/>\n",
        "You can tell that the model has not quite converged yet, as the validation loss is still going down, so you should probably continue training. It’s as simple as calling the fit() method again, since Keras just continues training where it left off ."
      ]
    },
    {
      "cell_type": "code",
      "metadata": {
        "id": "_3rLYYH6Gztl",
        "colab_type": "code",
        "colab": {
          "base_uri": "https://localhost:8080/",
          "height": 50
        },
        "outputId": "ea7945ba-c451-476e-c8cf-299ac81ef52d"
      },
      "source": [
        "model.evaluate(X_test, y_test)"
      ],
      "execution_count": 20,
      "outputs": [
        {
          "output_type": "stream",
          "text": [
            "313/313 [==============================] - 0s 1ms/step - loss: 0.3288 - accuracy: 0.8861\n"
          ],
          "name": "stdout"
        },
        {
          "output_type": "execute_result",
          "data": {
            "text/plain": [
              "[0.3287631571292877, 0.8860999941825867]"
            ]
          },
          "metadata": {
            "tags": []
          },
          "execution_count": 20
        }
      ]
    },
    {
      "cell_type": "markdown",
      "metadata": {
        "id": "EnMFVYUJHQ8a",
        "colab_type": "text"
      },
      "source": [
        "### USING THE MODEL TO MAKE PREDICTIONS\n",
        "Next, we can use the model’s predict() method to make predictions on new instances. Since we don’t have actual new instances, we will just use the first three instances of the test set:"
      ]
    },
    {
      "cell_type": "code",
      "metadata": {
        "id": "cVOTHwCAHRUk",
        "colab_type": "code",
        "colab": {
          "base_uri": "https://localhost:8080/",
          "height": 84
        },
        "outputId": "aff3104b-1531-4815-ea6f-23b08f06fc1d"
      },
      "source": [
        "X_new = X_test[:3]\n",
        "y_proba = model.predict(X_new)\n",
        "y_proba.round(2)"
      ],
      "execution_count": 21,
      "outputs": [
        {
          "output_type": "execute_result",
          "data": {
            "text/plain": [
              "array([[0.  , 0.  , 0.  , 0.  , 0.  , 0.  , 0.  , 0.01, 0.  , 0.99],\n",
              "       [0.  , 0.  , 1.  , 0.  , 0.  , 0.  , 0.  , 0.  , 0.  , 0.  ],\n",
              "       [0.  , 1.  , 0.  , 0.  , 0.  , 0.  , 0.  , 0.  , 0.  , 0.  ]],\n",
              "      dtype=float32)"
            ]
          },
          "metadata": {
            "tags": []
          },
          "execution_count": 21
        }
      ]
    },
    {
      "cell_type": "markdown",
      "metadata": {
        "id": "2z6DNzF3HpLj",
        "colab_type": "text"
      },
      "source": [
        "As you can see, for each instance the model estimates one probability per class, from class 0 to class 9. For example, for the first image it estimates that the probability of class 9 (ankle boot) is 96%, the probability of class 5 (sandal) is 3%, the probability of class 7 (sneaker) is 1%, and the probabilities of the other classes are negligible.<br/>\n",
        "If you only care about the class with the highest estimated probability (even if that probability is quite low), then you can use the predict_classes() method instead:"
      ]
    },
    {
      "cell_type": "code",
      "metadata": {
        "id": "TgUdkOmtH03s",
        "colab_type": "code",
        "colab": {
          "base_uri": "https://localhost:8080/",
          "height": 50
        },
        "outputId": "23e707e7-8681-4074-976c-0fe2c36cc962"
      },
      "source": [
        "import numpy as np\n",
        "y_pred = model.predict_classes(X_new)\n",
        "print(y_pred)\n",
        "print(np.array(class_names)[y_pred])"
      ],
      "execution_count": 23,
      "outputs": [
        {
          "output_type": "stream",
          "text": [
            "[9 2 1]\n",
            "['Ankle boot' 'Pullover' 'Trouser']\n"
          ],
          "name": "stdout"
        }
      ]
    },
    {
      "cell_type": "markdown",
      "metadata": {
        "id": "2l6ckS0SIIp3",
        "colab_type": "text"
      },
      "source": [
        "Let us now see what these images were actually:"
      ]
    },
    {
      "cell_type": "code",
      "metadata": {
        "id": "gnI1gNbOIYRQ",
        "colab_type": "code",
        "colab": {
          "base_uri": "https://localhost:8080/",
          "height": 34
        },
        "outputId": "d771ffe4-f8a5-4854-886e-153c2e846daa"
      },
      "source": [
        "y_new = y_test[:3]\n",
        "y_new\n"
      ],
      "execution_count": 24,
      "outputs": [
        {
          "output_type": "execute_result",
          "data": {
            "text/plain": [
              "array([9, 2, 1], dtype=uint8)"
            ]
          },
          "metadata": {
            "tags": []
          },
          "execution_count": 24
        }
      ]
    },
    {
      "cell_type": "code",
      "metadata": {
        "id": "mHi6QlCVIbH6",
        "colab_type": "code",
        "colab": {
          "base_uri": "https://localhost:8080/",
          "height": 34
        },
        "outputId": "a7a6697f-4324-4dec-c555-84411d8d2207"
      },
      "source": [
        "print(np.array(class_names)[y_new])"
      ],
      "execution_count": 25,
      "outputs": [
        {
          "output_type": "stream",
          "text": [
            "['Ankle boot' 'Pullover' 'Trouser']\n"
          ],
          "name": "stdout"
        }
      ]
    },
    {
      "cell_type": "code",
      "metadata": {
        "id": "jbDkYbw5IfHt",
        "colab_type": "code",
        "colab": {}
      },
      "source": [
        ""
      ],
      "execution_count": null,
      "outputs": []
    }
  ]
}